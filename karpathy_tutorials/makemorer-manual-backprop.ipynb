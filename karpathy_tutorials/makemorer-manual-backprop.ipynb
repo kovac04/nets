{
 "cells": [
  {
   "cell_type": "code",
   "execution_count": 1,
   "id": "910536ed-560d-4241-a960-136c55847aa3",
   "metadata": {},
   "outputs": [],
   "source": [
    "import torch\n",
    "import numpy as np\n",
    "from matplotlib import pyplot as plt\n",
    "import torch.nn.functional as F"
   ]
  },
  {
   "cell_type": "code",
   "execution_count": 2,
   "id": "57910ed6-ef43-41c3-a9d7-42f9c2f20d8c",
   "metadata": {},
   "outputs": [
    {
     "name": "stdout",
     "output_type": "stream",
     "text": [
      "{'a': 1, 'b': 2, 'c': 3, 'd': 4, 'e': 5, 'f': 6, 'g': 7, 'h': 8, 'i': 9, 'j': 10, 'k': 11, 'l': 12, 'm': 13, 'n': 14, 'o': 15, 'p': 16, 'q': 17, 'r': 18, 's': 19, 't': 20, 'u': 21, 'v': 22, 'w': 23, 'x': 24, 'y': 25, 'z': 26, '.': 0}\n"
     ]
    }
   ],
   "source": [
    "names = open(\"names.txt\", \"r\").read().splitlines()\n",
    "chars = sorted(list(set(''.join(names))))\n",
    "stoi = {s:i+1 for i,s in enumerate(chars)}\n",
    "stoi['.'] = 0\n",
    "itos = {i:s for s,i in stoi.items()}\n",
    "print(stoi)"
   ]
  },
  {
   "cell_type": "code",
   "execution_count": 3,
   "id": "0ff95d2d-080b-4ab4-a37e-5c63a7160ead",
   "metadata": {},
   "outputs": [],
   "source": [
    "def build_dataset(names):\n",
    "    block_size = 3 #context length of how many chars we take to predict the next char\n",
    "    X, Y = [],[]\n",
    "    \n",
    "    for w in names:\n",
    "        context = [0] * block_size\n",
    "        for ch in w + \".\":\n",
    "            ix = stoi[ch]\n",
    "            X.append(context)\n",
    "            Y.append(ix)\n",
    "            #print(''.join(itos[i] for i in context), '--->', itos[ix])\n",
    "            context = context[1:] + [ix] # rolling window, makes sense when you run it\n",
    "    \n",
    "    X = torch.tensor(X)\n",
    "    Y = torch.tensor(Y)\n",
    "    return X,Y"
   ]
  },
  {
   "cell_type": "code",
   "execution_count": 47,
   "id": "7727a31d-ee4f-48bd-a200-b85cb60ee178",
   "metadata": {},
   "outputs": [],
   "source": [
    "import random\n",
    "random.seed(42)\n",
    "random.shuffle(names)\n",
    "X_train, Y_train = build_dataset(names[:int(0.8*len(names))]) #get first 80% of the dataset\n",
    "X_valid, Y_valid = build_dataset(names[int(0.8*len(names)):int(0.9*len(names))]) # get between 80%-90%\n",
    "X_test, Y_test = build_dataset(names[int(0.9*len(names)):]) # get last 10% of dataset\n",
    "\n",
    "block_size = 3\n",
    "vocab_size = len(itos)\n",
    "#[itos[x[2].item()] for x in X_train[:5]]"
   ]
  },
  {
   "cell_type": "code",
   "execution_count": 16,
   "id": "7065bbf1-c05e-493f-a7a1-4b9106ddb405",
   "metadata": {},
   "outputs": [
    {
     "name": "stdout",
     "output_type": "stream",
     "text": [
      "number of all params: 4174\n"
     ]
    }
   ],
   "source": [
    "n_emb = 10\n",
    "n_hidden = 64\n",
    "\n",
    "g = torch.Generator().manual_seed(2147483647)\n",
    "\n",
    "C = torch.randn((vocab_size, n_emb), generator=g)\n",
    "\n",
    "#Layer 1\n",
    "W1 = torch.randn((n_emb * block_size, n_hidden) , generator = g) * (5/3)/(n_emb * block_size)**0.5\n",
    "b1 = torch.randn(n_hidden, generator = g) * 0.1\n",
    "\n",
    "#Layer2\n",
    "W2 = torch.randn((n_hidden, vocab_size) , generator = g) * 0.1\n",
    "b2 = torch.randn(vocab_size, generator = g) * 0.1\n",
    "\n",
    "#BatchNorm params\n",
    "gamma = torch.randn((1, n_hidden)) * 0.1 + 1.0\n",
    "beta = torch.randn((1, n_hidden)) * 0.1\n",
    "\n",
    "parameters = [C, W1, b1, W2, b1, gamma, beta]\n",
    "print(f\"number of all params: {sum(p.numel() for p in parameters)}\")"
   ]
  },
  {
   "cell_type": "code",
   "execution_count": 17,
   "id": "a051716b-d933-4403-916e-97f917702fd5",
   "metadata": {},
   "outputs": [],
   "source": [
    "batch_size = 32\n",
    "n = batch_size\n",
    "# get a mini-batch\n",
    "ix = torch.randint(0, X_train.shape[0], (batch_size,), generator = g)\n",
    "Xbatch, Ybatch = X_train[ix], Y_train[ix]"
   ]
  },
  {
   "cell_type": "code",
   "execution_count": null,
   "id": "4ee3844d-af06-42f9-9c4c-e631d0349be4",
   "metadata": {},
   "outputs": [],
   "source": [
    "# forward pass, but in smaller steps because i'll need to take gradients of each step\n",
    "\n",
    "emb = C[ix]\n",
    "embcat = C[ix]\n",
    "\n",
    "#Linear layer 1\n",
    "hpre"
   ]
  },
  {
   "cell_type": "code",
   "execution_count": null,
   "id": "d506a3c5-5657-4f5e-ba45-2cef26684913",
   "metadata": {},
   "outputs": [],
   "source": []
  },
  {
   "cell_type": "code",
   "execution_count": null,
   "id": "d79247e4-fbb5-4b19-9f5b-81962fbc8f13",
   "metadata": {},
   "outputs": [],
   "source": []
  },
  {
   "cell_type": "code",
   "execution_count": null,
   "id": "774a7604-eb92-413a-9498-8a9d9a45be3e",
   "metadata": {},
   "outputs": [],
   "source": []
  },
  {
   "cell_type": "code",
   "execution_count": null,
   "id": "d2205b0a-1b07-4139-a1b3-724291135894",
   "metadata": {},
   "outputs": [],
   "source": []
  },
  {
   "cell_type": "code",
   "execution_count": null,
   "id": "e49a1968-0c3c-4866-8260-521b04f953ea",
   "metadata": {},
   "outputs": [],
   "source": []
  },
  {
   "cell_type": "code",
   "execution_count": null,
   "id": "2669a026-1288-4f49-9310-5b44caea7199",
   "metadata": {},
   "outputs": [],
   "source": []
  },
  {
   "cell_type": "code",
   "execution_count": null,
   "id": "3182d384-6682-4ee4-b7b1-2baaabd3ab91",
   "metadata": {},
   "outputs": [],
   "source": []
  },
  {
   "cell_type": "code",
   "execution_count": null,
   "id": "2661246e-2f44-42cd-b073-9627d85714d5",
   "metadata": {},
   "outputs": [],
   "source": []
  },
  {
   "cell_type": "code",
   "execution_count": null,
   "id": "011131db-1341-499e-b62c-0c2f20e44f79",
   "metadata": {},
   "outputs": [],
   "source": []
  },
  {
   "cell_type": "code",
   "execution_count": null,
   "id": "26c8f11a-7593-47b9-a1f8-5b2d39ad9368",
   "metadata": {},
   "outputs": [],
   "source": []
  },
  {
   "cell_type": "code",
   "execution_count": null,
   "id": "3cb1773a-6d0f-4b92-a421-ac48db44fd2c",
   "metadata": {},
   "outputs": [],
   "source": []
  },
  {
   "cell_type": "code",
   "execution_count": null,
   "id": "c09f2ce0-6731-4afd-a7d9-5f42987c0e7c",
   "metadata": {},
   "outputs": [],
   "source": []
  },
  {
   "cell_type": "code",
   "execution_count": null,
   "id": "15c8397a-795b-40ac-8e89-50584c74fbc8",
   "metadata": {},
   "outputs": [],
   "source": []
  }
 ],
 "metadata": {
  "kernelspec": {
   "display_name": "Python 3 (ipykernel)",
   "language": "python",
   "name": "python3"
  },
  "language_info": {
   "codemirror_mode": {
    "name": "ipython",
    "version": 3
   },
   "file_extension": ".py",
   "mimetype": "text/x-python",
   "name": "python",
   "nbconvert_exporter": "python",
   "pygments_lexer": "ipython3",
   "version": "3.10.7"
  }
 },
 "nbformat": 4,
 "nbformat_minor": 5
}
