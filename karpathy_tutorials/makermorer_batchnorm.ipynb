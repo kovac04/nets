{
 "cells": [
  {
   "cell_type": "code",
   "execution_count": 2,
   "id": "61703b5f-2e54-4186-a52b-9f2035cbabfc",
   "metadata": {},
   "outputs": [],
   "source": [
    "import torch\n",
    "import numpy as np\n",
    "from matplotlib import pyplot as plt\n",
    "\n",
    "import torch.nn.functional as F"
   ]
  },
  {
   "cell_type": "code",
   "execution_count": 3,
   "id": "9463a953-c998-40b0-a44c-86d81c79604d",
   "metadata": {},
   "outputs": [
    {
     "name": "stdout",
     "output_type": "stream",
     "text": [
      "{'a': 1, 'b': 2, 'c': 3, 'd': 4, 'e': 5, 'f': 6, 'g': 7, 'h': 8, 'i': 9, 'j': 10, 'k': 11, 'l': 12, 'm': 13, 'n': 14, 'o': 15, 'p': 16, 'q': 17, 'r': 18, 's': 19, 't': 20, 'u': 21, 'v': 22, 'w': 23, 'x': 24, 'y': 25, 'z': 26, '.': 0}\n"
     ]
    }
   ],
   "source": [
    "names = open(\"names.txt\", \"r\").read().splitlines()\n",
    "chars = sorted(list(set(''.join(names))))\n",
    "stoi = {s:i+1 for i,s in enumerate(chars)}\n",
    "stoi['.'] = 0\n",
    "itos = {i:s for s,i in stoi.items()}\n",
    "print(stoi)"
   ]
  },
  {
   "cell_type": "code",
   "execution_count": 20,
   "id": "b0fab94d-795e-4e4d-ae55-528bfa848faf",
   "metadata": {},
   "outputs": [],
   "source": [
    "def build_dataset(names):\n",
    "    block_size = 3 #context length of how many chars we take to predict the next char\n",
    "    X, Y = [],[]\n",
    "    \n",
    "    for w in names:\n",
    "        context = [0] * block_size\n",
    "        for ch in w + \".\":\n",
    "            ix = stoi[ch]\n",
    "            X.append(context)\n",
    "            Y.append(ix)\n",
    "            #print(''.join(itos[i] for i in context), '--->', itos[ix])\n",
    "            context = context[1:] + [ix] # rolling window, makes sense when you run it\n",
    "    \n",
    "    X = torch.tensor(X)\n",
    "    Y = torch.tensor(Y)\n",
    "    return X,Y"
   ]
  },
  {
   "cell_type": "code",
   "execution_count": 21,
   "id": "7423eac0-7959-4062-b640-d56a7a6b19d7",
   "metadata": {},
   "outputs": [],
   "source": [
    "\n",
    "import random\n",
    "random.seed(42)\n",
    "random.shuffle(names)\n",
    "X_train, Y_train = build_dataset(names[:int(0.8*len(names))]) #get first 80% of the dataset\n",
    "X_valid, Y_valid = build_dataset(names[int(0.8*len(names)):int(0.9*len(names))]) # get between 80%-90%\n",
    "X_test, Y_test = build_dataset(names[int(0.9*len(names)):]) # get last 10% of dataset"
   ]
  },
  {
   "cell_type": "code",
   "execution_count": 22,
   "id": "5016b5ae-a73a-4be6-b973-0a45123bd49b",
   "metadata": {},
   "outputs": [
    {
     "data": {
      "text/plain": [
       "(torch.Size([182580, 3]), torch.Size([22767, 3]), torch.Size([22799, 3]))"
      ]
     },
     "execution_count": 22,
     "metadata": {},
     "output_type": "execute_result"
    }
   ],
   "source": [
    "X_train.shape, X_valid.shape, X_test.shape"
   ]
  },
  {
   "cell_type": "markdown",
   "id": "4627c364-6744-463b-bf90-a78122ec0873",
   "metadata": {},
   "source": [
    "##### ======================================\n",
    "#### We want our probabilities that get fed into softmax to be 100% uniform on the 1st run, that is because the lowest probability for each char should be 1/27. \n",
    "#### When we calculate the loss with logits and Y_train[x], we get loss=27, which should be ~3.29 according to our cross entropy loss calculation. So we want uniform logits, how do we do that? If all logits would be close to 0, they'd all roughly be equal, so let's try to not add bias (*0), and reduce our weights for the last layer (*0.01). Now, we start with loss=3.31 !!\n",
    "-------------\n",
    "\n",
    "#### Now, we also have a problem with our tanh function. Most values by far, take values very very close to -1 and 1. This means that the gradient for these activations is 0. Let's check below how often our h (activation) is in that flat region of tanh. Run below cell only after forward/backward cell which is below. In all white cells, the gradient would be squashed to 0, leading to dead potentially dead neurons (neurons that always have gradient 0 and thus never learn for all 32 examples)\n",
    "#### To fix this, we obviously need to make sure that our activations (h) is not -1 or 1 or really close to those. We can also try to reduce the bias and weights in the first layer. Boom! No more white neurons that have 0 gradients. Setting weights and biases closer to 0 helped!\n",
    "-------------\n",
    "\n",
    "#### Now, let's not magically \"weight\" to 0 as it doesn't seem like a great idea. Let's do something more professional: set them to be Gaussian."
   ]
  },
  {
   "cell_type": "code",
   "execution_count": 23,
   "id": "1978f831-b402-428c-9d14-e4349fa16d1b",
   "metadata": {},
   "outputs": [
    {
     "data": {
      "text/plain": [
       "<matplotlib.image.AxesImage at 0x16223b3a0>"
      ]
     },
     "execution_count": 23,
     "metadata": {},
     "output_type": "execute_result"
    },
    {
     "data": {
      "image/png": "[encoded data removed]",
      "text/plain": [
       "<Figure size 2000x1000 with 1 Axes>"
      ]
     },
     "metadata": {},
     "output_type": "display_data"
    }
   ],
   "source": [
    "plt.figure(figsize=(20,10))\n",
    "plt.imshow(h.abs() > 0.99, cmap=\"gray\", interpolation=\"nearest\")\n",
    "# activation for all 200 neurons, for the 32 batch examples."
   ]
  },
  {
   "cell_type": "code",
   "execution_count": 18,
   "id": "c1eedec2-1d14-404d-b55c-9d9c4114b743",
   "metadata": {},
   "outputs": [
    {
     "name": "stdout",
     "output_type": "stream",
     "text": [
      "tensor([3.2958])\n"
     ]
    }
   ],
   "source": [
    "print(-torch.tensor([1/27]).log())\n",
    "\n",
    "g = torch.Generator().manual_seed(2147483647)\n",
    "C = torch.randn((27,10), generator=g)\n",
    "W1 = torch.randn((30,200), generator=g) * (5/3 / (W1.shape[0]**0.5))\n",
    "                                            # each neuron here will get #features inputs. = emb.view(-1, emb_cols) = whatever,30\n",
    "#b1 = torch.randn(200, generator=g) * 0.01\n",
    "W2 = torch.randn((200,27), generator=g)\n",
    "#b2 = torch.randn(27, generator=g) * 0\n",
    "params = [C, W1, b1, W2, b2]"
   ]
  },
  {
   "cell_type": "code",
   "execution_count": 10,
   "id": "c7b68f15-8e87-446a-84f8-5dfbdc6e226b",
   "metadata": {},
   "outputs": [],
   "source": [
    "for p in params:\n",
    "    p.requires_grad=True"
   ]
  },
  {
   "cell_type": "code",
   "execution_count": 11,
   "id": "5016455f-e096-487e-84eb-2eb98b685751",
   "metadata": {},
   "outputs": [],
   "source": [
    "# let's also include grid search for our learning rate\n",
    "# want to take many lr's in range from [0.001,1]\n",
    "#lre = torch.linspace(-3,0,1000) # learning rate exponents. Doesn't really make sense to step between them linearly so we use exponents\n",
    "#lrs = 10**lre #learning # learning rates\n",
    "#lri = [] # keep track of learning rates in each iter\n",
    "lossi = []\n",
    "stepi = []"
   ]
  },
  {
   "cell_type": "code",
   "execution_count": 16,
   "id": "58add030-79c4-4872-98a4-18e968b6518e",
   "metadata": {},
   "outputs": [
    {
     "name": "stdout",
     "output_type": "stream",
     "text": [
      "torch.Size([32, 3, 10])\n",
      "torch.Size([32, 30])\n",
      "tensor(3.0424, grad_fn=<NllLossBackward0>)\n"
     ]
    }
   ],
   "source": [
    "for i in range(1):\n",
    "    #forward pass\n",
    "    ix = torch.randint(0,X_train.shape[0],(32,))\n",
    "    emb = C[X_train[ix]]\n",
    "    h = torch.tanh(emb.view(-1,emb_cols) @ W1 + b1)\n",
    "    print(emb.shape)\n",
    "    print(emb.view(-1,emb_cols).shape)\n",
    "    logits = h @ W2 + b2 # output from our network\n",
    "    loss = F.cross_entropy(logits, Y_train[ix])\n",
    "    \n",
    "    # backward pass\n",
    "    # zero out all gradients\n",
    "    for p in params:\n",
    "        p.grad = None # same as setting to 0\n",
    "    loss.backward()\n",
    "    \n",
    "    lr = 0.1 if i<100000 else 0.001 #decayed it to 0.001 from 0.1 after 3 iters of this. Loss: 2.5 -> 2.6 -> 2.2 -> 1.86\n",
    "    for p in params:\n",
    "        p.data += -lr*p.grad\n",
    "\n",
    "    # track stats\n",
    "    #lri.append(lre[i])\n",
    "    stepi.append(i)\n",
    "    lossi.append(loss.log10().item())\n",
    "print(loss)\n",
    "# since we have over 3k params, and for this specific training run only run 32 examples, model very easily overfits and gives low loss\n",
    "# it actually takes too long to perform foward and backward pass on all input data we have. so let's do it in batches"
   ]
  },
  {
   "cell_type": "code",
   "execution_count": 39,
   "id": "1dd5798b-9140-48ab-b40a-0652b7be190e",
   "metadata": {},
   "outputs": [
    {
     "data": {
      "text/plain": [
       "[<matplotlib.lines.Line2D at 0x13fa4fac0>]"
      ]
     },
     "execution_count": 39,
     "metadata": {},
     "output_type": "execute_result"
    },
    {
     "data": {
      "image/png": "[encoded data removed]",
      "text/plain": [
       "<Figure size 640x480 with 1 Axes>"
      ]
     },
     "metadata": {},
     "output_type": "display_data"
    }
   ],
   "source": [
    "# plot the different learning rates\n",
    "plt.plot(stepi, lossi)"
   ]
  },
  {
   "cell_type": "code",
   "execution_count": 40,
   "id": "9b96d591-ec14-4666-adf0-d33f09646473",
   "metadata": {},
   "outputs": [
    {
     "name": "stdout",
     "output_type": "stream",
     "text": [
      "tensor(2.0394, grad_fn=<NllLossBackward0>)\n"
     ]
    }
   ],
   "source": [
    "# eval loss on full training data set after training\n",
    "#ix = torch.randint(0,X.shape[0],(32,))\n",
    "emb = C[X_train]\n",
    "h = torch.tanh(emb.view(-1,emb_cols) @ W1 + b1)\n",
    "logits = h @ W2 + b2 # output from our network\n",
    "loss = F.cross_entropy(logits, Y_train)\n",
    "print(loss)"
   ]
  },
  {
   "cell_type": "code",
   "execution_count": 41,
   "id": "e4ca964a-f8f8-4a7d-a285-7e1d2bf9cb2e",
   "metadata": {},
   "outputs": [
    {
     "name": "stdout",
     "output_type": "stream",
     "text": [
      "tensor(2.0994, grad_fn=<NllLossBackward0>)\n"
     ]
    }
   ],
   "source": [
    "# eval loss on full validation data set after training\n",
    "#ix = torch.randint(0,X.shape[0],(32,))\n",
    "emb = C[X_valid]\n",
    "h = torch.tanh(emb.view(-1,emb_cols) @ W1 + b1)\n",
    "logits = h @ W2 + b2 # output from our network\n",
    "loss = F.cross_entropy(logits, Y_valid)\n",
    "print(loss)"
   ]
  },
  {
   "cell_type": "code",
   "execution_count": 42,
   "id": "fe17bed6-d09b-4b64-b1db-302294893017",
   "metadata": {},
   "outputs": [
    {
     "name": "stdout",
     "output_type": "stream",
     "text": [
      "carmah.\n",
      "amorie.\n",
      "khi.\n",
      "mili.\n",
      "taty.\n",
      "skaeden.\n",
      "jazhnen.\n",
      "deliah.\n",
      "jareei.\n",
      "ner.\n",
      "kiah.\n",
      "maiiyan.\n",
      "leggy.\n",
      "ham.\n",
      "joce.\n",
      "quint.\n",
      "shoisea.\n",
      "jadiquinterridearynn.\n",
      "jace.\n",
      "pinsley.\n"
     ]
    }
   ],
   "source": [
    "# To end this off, let's sample from the model\n",
    "block_size = 3\n",
    "g = torch.Generator().manual_seed(2147483647+10)\n",
    "for _ in range(20):\n",
    "    out = []\n",
    "    context = [0] * block_size\n",
    "    while True:\n",
    "        emb = C[torch.tensor([context])] # before it was (size of X, embedding vector dimension), but now we just need 1 example\n",
    "        h = torch.tanh(emb.view(-1,30) @ W1 + b1)\n",
    "        logits = h @ W2 + b2\n",
    "        probs = F.softmax(logits,dim=1) # same as before, exponentiates, makes them sum to 1\n",
    "        ix = torch.multinomial(probs, num_samples=1, generator=g).item()\n",
    "        context = context[1:] + [ix] # sliding window again\n",
    "        out.append(ix)\n",
    "        if(ix == 0):\n",
    "            break\n",
    "    print(''.join(itos[i] for i in out))"
   ]
  },
  {
   "cell_type": "code",
   "execution_count": null,
   "id": "3aec1423-33fa-4eb7-af43-d907b4e5ac12",
   "metadata": {},
   "outputs": [],
   "source": []
  }
 ],
 "metadata": {
  "kernelspec": {
   "display_name": "Python 3 (ipykernel)",
   "language": "python",
   "name": "python3"
  },
  "language_info": {
   "codemirror_mode": {
    "name": "ipython",
    "version": 3
   },
   "file_extension": ".py",
   "mimetype": "text/x-python",
   "name": "python",
   "nbconvert_exporter": "python",
   "pygments_lexer": "ipython3",
   "version": "3.10.7"
  }
 },
 "nbformat": 4,
 "nbformat_minor": 5
}
