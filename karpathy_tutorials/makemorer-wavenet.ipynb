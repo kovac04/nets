{
 "cells": [
  {
   "cell_type": "code",
   "execution_count": 129,
   "id": "910567d8-9ab7-42df-a6e5-fd4805f3154b",
   "metadata": {},
   "outputs": [],
   "source": [
    "import torch\n",
    "import torch.nn.functional as F\n",
    "import numpy\n",
    "import matplotlib.pyplot as plt\n",
    "%matplotlib inline"
   ]
  },
  {
   "cell_type": "code",
   "execution_count": 130,
   "id": "8e61317f-8b1f-4267-af57-f3d5b979a1fd",
   "metadata": {},
   "outputs": [],
   "source": [
    "names = open('names.txt', 'r').read().splitlines()"
   ]
  },
  {
   "cell_type": "code",
   "execution_count": 131,
   "id": "9a2f15fc-988b-4776-a90f-9c2b034449f4",
   "metadata": {},
   "outputs": [
    {
     "data": {
      "text/plain": [
       "(['emma', 'olivia', 'ava', 'isabella', 'sophia', 'charlotte', 'mia', 'amelia'],\n",
       " 32033)"
      ]
     },
     "execution_count": 131,
     "metadata": {},
     "output_type": "execute_result"
    }
   ],
   "source": [
    "names[:8], len(names)"
   ]
  },
  {
   "cell_type": "code",
   "execution_count": 226,
   "id": "831c3d1b-3692-4809-9625-8f23a3900beb",
   "metadata": {},
   "outputs": [
    {
     "name": "stdout",
     "output_type": "stream",
     "text": [
      "{'a': 1, 'b': 2, 'c': 3, 'd': 4, 'e': 5, 'f': 6, 'g': 7, 'h': 8, 'i': 9, 'j': 10, 'k': 11, 'l': 12, 'm': 13, 'n': 14, 'o': 15, 'p': 16, 'q': 17, 'r': 18, 's': 19, 't': 20, 'u': 21, 'v': 22, 'w': 23, 'x': 24, 'y': 25, 'z': 26, '.': 0}\n"
     ]
    }
   ],
   "source": [
    "chars = sorted(list(set(''.join(names))))\n",
    "stoi = {s:i+1 for i,s in enumerate(chars)}\n",
    "stoi['.'] = 0\n",
    "itos = {i:s for s,i in stoi.items()}\n",
    "print(stoi)\n",
    "block_size = 8\n",
    "vocab_size = len(itos)"
   ]
  },
  {
   "cell_type": "code",
   "execution_count": 227,
   "id": "88235f46-e264-499e-af75-501aee392a7d",
   "metadata": {},
   "outputs": [],
   "source": [
    "def build_dataset(names):\n",
    "    X, Y = [],[]\n",
    "    \n",
    "    for w in names:\n",
    "        context = [0] * block_size\n",
    "        for ch in w + \".\":\n",
    "            ix = stoi[ch]\n",
    "            X.append(context)\n",
    "            Y.append(ix)\n",
    "            #print(''.join(itos[i] for i in context), '--->', itos[ix])\n",
    "            context = context[1:] + [ix] # rolling window, makes sense when you run it\n",
    "    \n",
    "    X = torch.tensor(X)\n",
    "    Y = torch.tensor(Y)\n",
    "    return X,Y"
   ]
  },
  {
   "cell_type": "code",
   "execution_count": 228,
   "id": "61a8832d-3caf-419a-a603-7c8e005ac758",
   "metadata": {},
   "outputs": [],
   "source": [
    "import random\n",
    "random.seed(42)\n",
    "random.shuffle(names)\n",
    "X_train, Y_train = build_dataset(names[:int(0.8*len(names))]) #get first 80% of the dataset\n",
    "X_valid, Y_valid = build_dataset(names[int(0.8*len(names)):int(0.9*len(names))]) # get between 80%-90%\n",
    "X_test, Y_test = build_dataset(names[int(0.9*len(names)):]) # get last 10% of dataset\n",
    "\n",
    "torch.manual_seed(42);"
   ]
  },
  {
   "cell_type": "code",
   "execution_count": 242,
   "id": "d7488ebc-f125-4bca-865c-f93350086c68",
   "metadata": {},
   "outputs": [],
   "source": [
    "class Linear:\n",
    "                     #examples,#neurons\n",
    "    def __init__(self,fan_in,fan_out,bias=True):\n",
    "        self.weight = torch.randn((fan_in,fan_out), generator=g) / fan_in**0.5\n",
    "        self.bias = torch.zeros(fan_out) if bias else None\n",
    "\n",
    "    def __call__(self, x):\n",
    "        self.out = x @ self.weight\n",
    "        if self.bias is not None:\n",
    "            self.out+=self.bias\n",
    "        return self.out\n",
    "\n",
    "    def parameters(self):\n",
    "        return [self.weight] + ([] if self.bias is None else [self.bias])\n",
    "\n",
    "\n",
    "class BatchNorm1d:\n",
    "\n",
    "    def __init__(self, dim, eps=1e-5, momentum=0.1):\n",
    "        self.eps = eps\n",
    "        self.momentum = momentum\n",
    "        self.training = True\n",
    "        # params, (trained with backprop)\n",
    "        self.gamma = torch.ones(dim)\n",
    "        self.beta = torch.zeros(dim)\n",
    "        # buffers, (trained with a running momentum)\n",
    "        self.running_mean = torch.zeros(dim)\n",
    "        self.running_var = torch.ones(dim)\n",
    "\n",
    "    def __call__(self, x):\n",
    "        if self.training:\n",
    "            xmean = x.mean(0, keepdims=True) # batch mean\n",
    "            xvar = x.var(0, keepdims=True, unbiased=True) # batch var\n",
    "        else:\n",
    "            xmean = self.running_mean\n",
    "            xvar = self.running_var\n",
    "        xhat = (x-xmean) / torch.sqrt(xvar + self.eps) # normalize to unit variance\n",
    "        self.out = self.gamma*(xhat + self.beta)\n",
    "        # update buffers\n",
    "        if self.training:\n",
    "            with torch.no_grad():\n",
    "                self.running_mean = self.running_mean*(1-self.momentum) + xmean*self.momentum\n",
    "                self.running_var = self.running_var*(1-self.momentum) + xvar*self.momentum\n",
    "        return self.out\n",
    "\n",
    "    def parameters(self):\n",
    "        return [self.gamma, self.beta]\n",
    "\n",
    "\n",
    "class Tanh:\n",
    "  def __call__(self, x):\n",
    "    self.out = torch.tanh(x)\n",
    "    return self.out\n",
    "      \n",
    "  def parameters(self):\n",
    "    return []\n",
    "\n",
    "# replaces emb = C[Xb]\n",
    "class Embedding:\n",
    "    def __init__(self, num_embedding, embedding_dim):\n",
    "        self.weight = torch.randn((num_embedding, embedding_dim)) # 27, 10\n",
    "    def __call__(self, IX):\n",
    "        self.out = self.weight[IX] # 4, 8, 10. For each 1/8 chars, in each 1/4 examples, we pick out the correct length 10 vector\n",
    "        return self.out\n",
    "\n",
    "    def parameters(self):\n",
    "        return [self.weight]\n",
    "\n",
    "# old: replaces x = emb.view(emb.shape[0],-1)\n",
    "# new: flattens n adjacent elements (rows) together and concatenates their vectors (2 for bigrams)\n",
    "class FlattenConsecutive: \n",
    "    def __init__(self, n):\n",
    "        self.n = n\n",
    "    def __call__(self, x):\n",
    "        B, T, C = x.shape # B = batch size = 4 (in the example) \n",
    "                          # T = length of the sequence (tracking 8 chars) \n",
    "                          # C = Channels = features = 10 [vector length / features for each char]\n",
    "        x = x.view(B, T//self.n, C*self.n) # batch size (same)\n",
    "                                        # sequence length (8) // n; if we merge each 2 elements together, we get 2x less \"chars\"\n",
    "                                        # features * n; if n = 2, we get 2x bigger vector length for each new \"char\" (bigram)\n",
    "        if x.shape[1] == 1:\n",
    "            x = x.squeeze(1)\n",
    "        self.out = x\n",
    "        return self.out\n",
    "        \n",
    "    def parameters(self):\n",
    "        return []\n",
    "\n",
    "class Sequential:\n",
    "    def __init__(self, layers):\n",
    "        self.layers = layers\n",
    "\n",
    "    def __call__(self, x):\n",
    "        for layer in self.layers:\n",
    "            x = layer(x)\n",
    "        self.out = x\n",
    "        return self.out\n",
    "    def parameters(self):\n",
    "        return [p for layer in self.layers for p in layer.parameters()]"
   ]
  },
  {
   "cell_type": "code",
   "execution_count": 246,
   "id": "d0424558-ee9a-4485-8d75-c801135389c6",
   "metadata": {},
   "outputs": [
    {
     "name": "stdout",
     "output_type": "stream",
     "text": [
      "22397\n"
     ]
    }
   ],
   "source": [
    "n_emb = 10\n",
    "n_hidden = 68\n",
    "\n",
    "myNet = Sequential([\n",
    "    Embedding(vocab_size, n_emb),\n",
    "    FlattenConsecutive(2), Linear(2 * n_emb, n_hidden,  bias=False), BatchNorm1d(n_hidden), Tanh(),\n",
    "    FlattenConsecutive(2), Linear(2 * n_hidden, n_hidden,  bias=False), BatchNorm1d(n_hidden), Tanh(),\n",
    "    FlattenConsecutive(2), Linear(2 * n_hidden, n_hidden,  bias=False), BatchNorm1d(n_hidden), Tanh(),\n",
    "    Linear(n_hidden,vocab_size),\n",
    "])\n",
    "\n",
    "with torch.no_grad():\n",
    "    # last layer: make less confident\n",
    "    layers[-1].gamma *= 0.1\n",
    "    # all other layers: apply gain\n",
    "    # for layer in layers[:-1]:\n",
    "    #     if isinstance(layer, Linear):\n",
    "    #         layer.weight *= 5/3\n",
    "parameters = myNet.parameters()\n",
    "print(sum(p.numel() for p in parameters)) # number of parms in total\n",
    "for p in parameters:\n",
    "   p.requires_grad = True"
   ]
  },
  {
   "cell_type": "code",
   "execution_count": 247,
   "id": "b5a37e91-61b5-4062-b100-158c71e83071",
   "metadata": {},
   "outputs": [
    {
     "name": "stdout",
     "output_type": "stream",
     "text": [
      "torch.Size([4, 8])\n",
      "tensor(3.6563, grad_fn=<NllLossBackward0>)\n"
     ]
    }
   ],
   "source": [
    "ix = torch.randint(0, X_train.shape[0],(4,))\n",
    "Xb, Yb = X_train[ix], Y_train[ix]\n",
    "print(Xb.shape)\n",
    "logits = myNet(Xb)\n",
    "loss = F.cross_entropy(logits, Yb)\n",
    "print(loss)"
   ]
  },
  {
   "cell_type": "code",
   "execution_count": 248,
   "id": "5e4f9d89-7d0d-4cd3-b511-497a9da51029",
   "metadata": {},
   "outputs": [
    {
     "name": "stdout",
     "output_type": "stream",
     "text": [
      "Embedding : (4, 8, 10)\n",
      "FlattenConsecutive : (4, 4, 20)\n",
      "Linear : (4, 4, 68)\n",
      "BatchNorm1d : (4, 4, 68)\n",
      "Tanh : (4, 4, 68)\n",
      "FlattenConsecutive : (4, 2, 136)\n",
      "Linear : (4, 2, 68)\n",
      "BatchNorm1d : (4, 2, 68)\n",
      "Tanh : (4, 2, 68)\n",
      "FlattenConsecutive : (4, 136)\n",
      "Linear : (4, 68)\n",
      "BatchNorm1d : (4, 68)\n",
      "Tanh : (4, 68)\n",
      "Linear : (4, 27)\n"
     ]
    }
   ],
   "source": [
    "for layer in myNet.layers:\n",
    "    print(f\"{layer.__class__.__name__} : {tuple(layer.out.shape)}\")"
   ]
  },
  {
   "cell_type": "code",
   "execution_count": 249,
   "id": "5d956000-27df-4e17-997d-473cd99f584f",
   "metadata": {},
   "outputs": [
    {
     "name": "stdout",
     "output_type": "stream",
     "text": [
      "      0/ 100000: 3.4858\n",
      "  10000/ 100000: 2.2798\n",
      "  20000/ 100000: 2.3413\n",
      "  30000/ 100000: 2.5213\n",
      "  40000/ 100000: 2.6037\n",
      "  50000/ 100000: 1.9931\n",
      "  60000/ 100000: 1.9296\n",
      "  70000/ 100000: 2.3412\n",
      "  80000/ 100000: 2.4058\n",
      "  90000/ 100000: 1.9085\n",
      "training loss: 1.6822854280471802\n"
     ]
    }
   ],
   "source": [
    "# optimization\n",
    "max_steps = 100000\n",
    "batch_size = 32\n",
    "lossi = []\n",
    "ud = [] # update:data ratio (lr*gradient).std / parameter.data.std\n",
    "    \n",
    "for i in range(max_steps):\n",
    "    ix = torch.randint(0, X_train.shape[0], (batch_size,), generator=g)\n",
    "    Xb, Yb = X_train[ix], Y_train[ix]\n",
    "\n",
    "    # forward pass\n",
    "    \n",
    "    logits = myNet(Xb)\n",
    "    loss = F.cross_entropy(logits, Yb)\n",
    "\n",
    "    # backward pass\n",
    "    #for layer in myNet.layers:\n",
    "     #  layer.out.retain_grad()\n",
    "    for p in parameters:\n",
    "        p.grad = None\n",
    "    loss.backward()\n",
    "\n",
    "    # update\n",
    "    lr = 0.1 if i < max_steps/2 else 0.001\n",
    "    for p in parameters:\n",
    "        p.data += -lr * p.grad\n",
    "\n",
    "    # track stats\n",
    "    if i % 10000 == 0:\n",
    "        print(f'{i:7d}/{max_steps:7d}: {loss.item():.4f}')\n",
    "    lossi.append(loss.log10().item())\n",
    "    with torch.no_grad():\n",
    "        ud.append([((lr*p.grad).std() / p.data.std()).log10().item() for p in parameters])\n",
    "    # if i >= 199:\n",
    "    #     break\n",
    "print(f\"training loss: {loss}\")\n",
    "#print(ud)"
   ]
  },
  {
   "cell_type": "code",
   "execution_count": 250,
   "id": "d1446583-6cb1-47fd-8740-d6725ceea244",
   "metadata": {},
   "outputs": [],
   "source": [
    "loss_averaged = torch.tensor(lossi).view(200,-1).mean(dim=1)\n",
    "#len(lossi)"
   ]
  },
  {
   "cell_type": "code",
   "execution_count": 251,
   "id": "f5ad3ea1-5c7d-4214-837a-2aa4e710b6d7",
   "metadata": {},
   "outputs": [
    {
     "data": {
      "text/plain": [
       "[<matplotlib.lines.Line2D at 0x1115bb190>]"
      ]
     },
     "execution_count": 251,
     "metadata": {},
     "output_type": "execute_result"
    },
    {
     "data": {
      "image/png": "[encoded data removed]",
      "text/plain": [
       "<Figure size 640x480 with 1 Axes>"
      ]
     },
     "metadata": {},
     "output_type": "display_data"
    }
   ],
   "source": [
    "plt.plot(loss_averaged)"
   ]
  },
  {
   "cell_type": "code",
   "execution_count": 252,
   "id": "812968b7-8fd4-4820-9dd3-284383534028",
   "metadata": {},
   "outputs": [
    {
     "name": "stdout",
     "output_type": "stream",
     "text": [
      "tensor(2.0579, grad_fn=<NllLossBackward0>)\n"
     ]
    }
   ],
   "source": [
    "# eval loss on full training data set after training\n",
    "#------------\n",
    "logits = myNet(X_valid)\n",
    "loss = F.cross_entropy(logits, Y_valid)\n",
    "print(loss)"
   ]
  },
  {
   "cell_type": "code",
   "execution_count": 253,
   "id": "8a96aeb9-0010-4e73-b3c4-9d50cde3f054",
   "metadata": {},
   "outputs": [
    {
     "name": "stdout",
     "output_type": "stream",
     "text": [
      "tensor(2.0684, grad_fn=<NllLossBackward0>)\n"
     ]
    }
   ],
   "source": [
    "logits = myNet(X_test)\n",
    "loss = F.cross_entropy(logits, Y_test)\n",
    "print(loss)"
   ]
  },
  {
   "cell_type": "code",
   "execution_count": 255,
   "id": "a17a555d-6303-44bf-b0a4-3a5e5b3b1cd0",
   "metadata": {},
   "outputs": [
    {
     "name": "stdout",
     "output_type": "stream",
     "text": [
      "shantin.\n",
      "abian.\n",
      "zurije.\n",
      "sorina.\n",
      "ketun.\n",
      "daiga.\n",
      "elia.\n",
      "ayona.\n",
      "kahlinn.\n",
      "asebpa.\n",
      "carlan.\n",
      "sapping.\n",
      "myjana.\n",
      "glain.\n",
      "jezynn.\n",
      "josa.\n",
      "aliil.\n",
      "rezha.\n",
      "phanash.\n",
      "marius.\n"
     ]
    }
   ],
   "source": [
    "# To end this off, let's sample from the model\n",
    "#------------\n",
    "for layer in myNet.layers:\n",
    "    layer.training = False\n",
    "    \n",
    "block_size = 8\n",
    "#g = torch.Generator().manual_seed(2147483647+10)\n",
    "for _ in range(20):\n",
    "    out = []\n",
    "    context = [0] * block_size\n",
    "    while True:\n",
    "        logits = myNet(torch.tensor([context]))\n",
    "        probs = F.softmax(logits,dim=1) # same as before, exponentiates, makes them sum to 1\n",
    "        ix = torch.multinomial(probs, num_samples=1).item()\n",
    "        context = context[1:] + [ix] # sliding window again\n",
    "        out.append(ix)\n",
    "        if(ix == 0):\n",
    "            break\n",
    "    print(''.join(itos[i] for i in out))"
   ]
  },
  {
   "cell_type": "code",
   "execution_count": 164,
   "id": "9754b532-f181-49e9-a7fd-f7dac7692d84",
   "metadata": {},
   "outputs": [],
   "source": [
    "e = torch.randn(4,8,10)   # instead of having this, let's try to make it 4,4,20, where 10d vectors get concatenated\n",
    "explicit = torch.cat((e[:,::2,], e[:,1::2,:]), dim=2) # gets all even chars, and all odd chars, and concatenates their 10 vectors\n",
    "\n",
    "# 0 , 2 , 4 , 6 , 8\n",
    "# 1 , 3 , 5 , 7 , 9\n",
    "# 0+1, 2+3, 4+5, 6+7, 8+9 (except it's their vectors we are concatenating)"
   ]
  },
  {
   "cell_type": "code",
   "execution_count": 168,
   "id": "f2355cb2-35c3-4bb6-a239-a22441d2820f",
   "metadata": {},
   "outputs": [
    {
     "data": {
      "text/plain": [
       "tensor(True)"
      ]
     },
     "execution_count": 168,
     "metadata": {},
     "output_type": "execute_result"
    }
   ],
   "source": [
    "viewed = e.view(4,4,-1)\n",
    "(viewed == explicit).all() # exact same thing"
   ]
  },
  {
   "cell_type": "code",
   "execution_count": null,
   "id": "dfca582e-ee1a-4255-a674-6559749ca9b5",
   "metadata": {},
   "outputs": [],
   "source": []
  }
 ],
 "metadata": {
  "kernelspec": {
   "display_name": "Python 3 (ipykernel)",
   "language": "python",
   "name": "python3"
  },
  "language_info": {
   "codemirror_mode": {
    "name": "ipython",
    "version": 3
   },
   "file_extension": ".py",
   "mimetype": "text/x-python",
   "name": "python",
   "nbconvert_exporter": "python",
   "pygments_lexer": "ipython3",
   "version": "3.10.7"
  }
 },
 "nbformat": 4,
 "nbformat_minor": 5
}
