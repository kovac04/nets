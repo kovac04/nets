{
 "cells": [
  {
   "cell_type": "code",
   "execution_count": 2,
   "id": "a84938ba-2c6c-4cf4-82d8-07b621363efe",
   "metadata": {},
   "outputs": [],
   "source": [
    "import sys\n",
    "sys.path.append('python/')\n",
    "import needle as ndl"
   ]
  },
  {
   "cell_type": "code",
   "execution_count": 3,
   "id": "a855c372-c87a-415d-9b74-e40d6094c10f",
   "metadata": {},
   "outputs": [],
   "source": [
    "w = ndl.Tensor([1],dtype=\"float32\")"
   ]
  },
  {
   "cell_type": "code",
   "execution_count": 6,
   "id": "a8df5863-989a-4a17-8e32-1074b5e04d26",
   "metadata": {},
   "outputs": [
    {
     "data": {
      "text/plain": [
       "needle.Tensor([1.])"
      ]
     },
     "execution_count": 6,
     "metadata": {},
     "output_type": "execute_result"
    }
   ],
   "source": [
    "w"
   ]
  },
  {
   "cell_type": "code",
   "execution_count": 8,
   "id": "ce8bf580-66e0-40e2-84e3-0a77f5bd7de5",
   "metadata": {},
   "outputs": [],
   "source": [
    "grad = ndl.Tensor([1,2,3],dtype=\"float32\")\n",
    "lr = 0.1\n",
    "for i in range(5):\n",
    "    w = w-lr*grad"
   ]
  },
  {
   "cell_type": "code",
   "execution_count": 9,
   "id": "8372a7d2-1023-449b-8c7d-beadfc308103",
   "metadata": {},
   "outputs": [
    {
     "data": {
      "text/plain": [
       "<needle.ops.EWiseAdd at 0x10cb3f7f0>"
      ]
     },
     "execution_count": 9,
     "metadata": {},
     "output_type": "execute_result"
    }
   ],
   "source": [
    "w.op"
   ]
  },
  {
   "cell_type": "code",
   "execution_count": null,
   "id": "ae03ad6f-7875-4b5e-b1bf-37f596faabd0",
   "metadata": {},
   "outputs": [],
   "source": []
  }
 ],
 "metadata": {
  "kernelspec": {
   "display_name": "Python 3 (ipykernel)",
   "language": "python",
   "name": "python3"
  },
  "language_info": {
   "codemirror_mode": {
    "name": "ipython",
    "version": 3
   },
   "file_extension": ".py",
   "mimetype": "text/x-python",
   "name": "python",
   "nbconvert_exporter": "python",
   "pygments_lexer": "ipython3",
   "version": "3.10.7"
  }
 },
 "nbformat": 4,
 "nbformat_minor": 5
}
