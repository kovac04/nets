{
  "nbformat": 4,
  "nbformat_minor": 0,
  "metadata": {
    "colab": {
      "provenance": [],
      "toc_visible": true,
      "authorship_tag": "ABX9TyPPKN/gYciwNFs6XCnXN3/l"
    },
    "kernelspec": {
      "name": "python3",
      "display_name": "Python 3"
    },
    "language_info": {
      "name": "python"
    }
  },
  "cells": [
    {
      "cell_type": "code",
      "execution_count": 1,
      "metadata": {
        "id": "j1-BeC2dtz3J"
      },
      "outputs": [],
      "source": [
        "import numpy as np\n",
        "import torch\n",
        "import torch.nn as nn\n",
        "from sklearn import datasets, svm, metrics\n",
        "from sklearn.model_selection import train_test_split\n",
        "from sklearn.datasets import load_digits\n",
        "import matplotlib.pyplot as plt\n",
        "import pandas as pd\n",
        "from tqdm import trange"
      ]
    },
    {
      "cell_type": "code",
      "source": [
        "mnist = load_digits()\n",
        "X,y = mnist.data, mnist.target\n",
        "X_train, X_test, y_train, y_test = train_test_split(X, y, test_size=0.33, random_state=1)\n",
        "plt.imshow(X_train[11].reshape(8,8),cmap='gray')\n",
        "print(y_train[11])"
      ],
      "metadata": {
        "colab": {
          "base_uri": "https://localhost:8080/",
          "height": 448
        },
        "id": "cT2-2flat5jF",
        "outputId": "7b6dd9ec-3087-4bf0-fbc9-244a04e7c9e1"
      },
      "execution_count": 2,
      "outputs": [
        {
          "output_type": "stream",
          "name": "stdout",
          "text": [
            "3\n"
          ]
        },
        {
          "output_type": "display_data",
          "data": {
            "text/plain": [
              "<Figure size 640x480 with 1 Axes>"
            ],
            "image/png": "[encoded data removed]"
          },
          "metadata": {}
        }
      ]
    },
    {
      "cell_type": "code",
      "source": [
        "class fishNet(torch.nn.Module):\n",
        "  def __init__(self):\n",
        "    super(fishNet, self).__init__()\n",
        "    self.l1 = nn.Linear(64,128)\n",
        "    self.act = nn.ReLU()\n",
        "    self.l2 = nn.Linear(128,10)\n",
        "\n",
        "  def forward(self,x):\n",
        "    x = self.l1(x)\n",
        "    x = self.act(x)\n",
        "    x = self.l2(x)\n",
        "    return x\n"
      ],
      "metadata": {
        "id": "plhLpQyxxz0C"
      },
      "execution_count": 3,
      "outputs": []
    },
    {
      "cell_type": "code",
      "source": [
        "model = fishNet()\n",
        "model.forward(torch.tensor(X_train[:10]).float())"
      ],
      "metadata": {
        "colab": {
          "base_uri": "https://localhost:8080/"
        },
        "id": "e4Sm1WgtAU3b",
        "outputId": "f45d7393-5c4f-4aea-f292-847fc8d452da"
      },
      "execution_count": 87,
      "outputs": [
        {
          "output_type": "execute_result",
          "data": {
            "text/plain": [
              "tensor([[-1.1866,  2.7495,  0.8017,  2.5000, -2.7862,  2.4104, -1.3987,  1.0586,\n",
              "          2.5709,  3.0358],\n",
              "        [ 2.1263, -0.1205, -0.5450,  1.4862, -1.1758, -0.4529, -2.3024,  1.3105,\n",
              "          0.6915,  0.1108],\n",
              "        [-0.2003, -0.5934, -1.0552,  1.6941, -0.9637,  0.4691,  0.0532,  0.9180,\n",
              "          0.8640, -0.1397],\n",
              "        [ 1.5423,  1.2959,  2.6788,  3.2610, -0.1022,  1.8034, -0.2495,  1.4174,\n",
              "          1.8866,  0.9735],\n",
              "        [ 0.9186, -0.8075, -1.8889,  1.1719, -2.4989,  0.8035, -2.1447,  0.1359,\n",
              "          3.6222, -1.4784],\n",
              "        [ 1.8067,  0.7857,  0.6755,  1.8968,  0.8977, -1.1235, -2.0004,  1.8881,\n",
              "          1.1604,  2.3244],\n",
              "        [-0.7299,  0.5609, -1.8849,  2.2579, -2.4258,  2.3600, -0.3166,  0.9722,\n",
              "          1.5228,  0.0087],\n",
              "        [-1.3965,  1.5963,  0.8113,  2.2284, -2.6984,  1.5546, -1.7085,  0.6893,\n",
              "          1.9873,  2.3140],\n",
              "        [ 1.1581, -0.3191, -0.0276,  1.1359, -0.7483, -0.8560, -3.1113,  1.4987,\n",
              "          2.0214,  1.8051],\n",
              "        [ 3.0172,  0.1724,  1.2492,  2.1210,  1.5107, -2.2929, -2.2045,  0.3324,\n",
              "          2.3414,  1.3278]], grad_fn=<AddmmBackward0>)"
            ]
          },
          "metadata": {},
          "execution_count": 87
        }
      ]
    },
    {
      "cell_type": "code",
      "source": [
        "# take 32 example from X_train\n",
        "BS = 32\n",
        "loss_function = torch.nn.CrossEntropyLoss()     # cross entropy loss function for n categories\n",
        "optim = torch.optim.AdamW(model.parameters())   # adamW optimizer, with model's parameters\n",
        "for i in (t:=trange(1)):\n",
        "  sample = np.random.randint(0,X_train.shape[0],size=BS,)  # 32 random ints * number of training examples\n",
        "  X_batch = X_train[sample]                 # select random training examples\n",
        "  y_batch = y_train[sample]                             # select those same labels\n",
        "  y_pred = model.forward(torch.tensor(X_batch).float()) # give 10 probabilities for each of 32 examples / 32x10 tensor\n",
        "  cat = torch.argmax(y_pred,dim=1)  # squish all cols into 1 col (32x1 tensor), store indices of max value in each column\n",
        "  accuracy = (cat == torch.tensor(y_batch)).float().mean()\n",
        "  loss = loss_function(y_pred,torch.tensor(y_batch))      # get loss on 32 current exam\n",
        "  optim.zero_grad()   # zero all gradients\n",
        "  loss.backward()     # backprop through loss function\n",
        "  optim.step()        # learn\n",
        "  t.set_description(\"loss %.5f accuracy %0.5f\"%(loss,accuracy))\n",
        "print(f\"\\ntrue label = {y_batch[0]}, prediction = {cat[0].item()}\")     # correct label and [wrong] probabilities for that example\n",
        "\n",
        "# 1. loss function computes the loss on the small batch\n",
        "# 2. set the gradient to zero\n",
        "# 3. take the derivatives of the loss function\n",
        "# 4. learn by stepping with the optimizer"
      ],
      "metadata": {
        "colab": {
          "base_uri": "https://localhost:8080/"
        },
        "id": "4OgxzVG2HloZ",
        "outputId": "1742d7ad-69af-4624-f2dd-4d8997f4f852"
      },
      "execution_count": 92,
      "outputs": [
        {
          "output_type": "stream",
          "name": "stderr",
          "text": [
            "loss 2.46200 accuracy 0.03125: 100%|██████████| 1/1 [00:00<00:00, 157.15it/s]"
          ]
        },
        {
          "output_type": "stream",
          "name": "stdout",
          "text": [
            "\n",
            "true label = 7, prediction = 0\n"
          ]
        },
        {
          "output_type": "stream",
          "name": "stderr",
          "text": [
            "\n"
          ]
        }
      ]
    },
    {
      "cell_type": "code",
      "source": [],
      "metadata": {
        "id": "2Nu3uL_mIEco"
      },
      "execution_count": 88,
      "outputs": []
    },
    {
      "cell_type": "code",
      "source": [],
      "metadata": {
        "id": "_E94W5Li8Hkd"
      },
      "execution_count": null,
      "outputs": []
    }
  ]
}
