{
  "nbformat": 4,
  "nbformat_minor": 0,
  "metadata": {
    "colab": {
      "provenance": [],
      "toc_visible": true,
      "authorship_tag": "ABX9TyM7FI9Gyx73kCA0jpD6g2S1",
      "include_colab_link": true
    },
    "kernelspec": {
      "name": "python3",
      "display_name": "Python 3"
    },
    "language_info": {
      "name": "python"
    }
  },
  "cells": [
    {
      "cell_type": "markdown",
      "metadata": {
        "id": "view-in-github",
        "colab_type": "text"
      },
      "source": [
        "<a href=\"https://colab.research.google.com/github/kovac04/nets/blob/main/0_to_stable_diffusion/mnist_from_scratch_pytorch.ipynb\" target=\"_parent\"><img src=\"https://colab.research.google.com/assets/colab-badge.svg\" alt=\"Open In Colab\"/></a>"
      ]
    },
    {
      "cell_type": "code",
      "execution_count": 18,
      "metadata": {
        "id": "j1-BeC2dtz3J"
      },
      "outputs": [],
      "source": [
        "import numpy as np\n",
        "import torch\n",
        "import torch.nn as nn\n",
        "from sklearn import datasets, svm, metrics\n",
        "from sklearn.model_selection import train_test_split\n",
        "from sklearn.datasets import load_digits\n",
        "import matplotlib.pyplot as plt\n",
        "import pandas as pd"
      ]
    },
    {
      "cell_type": "code",
      "source": [
        "mnist = load_digits()\n",
        "X,y = mnist.data, mnist.target\n",
        "X_train, X_test, y_train, y_test = train_test_split(X, y, test_size=0.33, random_state=1)\n",
        "plt.imshow(X_train[11].reshape(8,8),cmap='gray')\n",
        "print(y_train[11])"
      ],
      "metadata": {
        "colab": {
          "base_uri": "https://localhost:8080/",
          "height": 448
        },
        "id": "cT2-2flat5jF",
        "outputId": "5e02b772-de6f-4752-ad84-0a83a1e357ee"
      },
      "execution_count": 52,
      "outputs": [
        {
          "output_type": "stream",
          "name": "stdout",
          "text": [
            "3\n"
          ]
        },
        {
          "output_type": "display_data",
          "data": {
            "text/plain": [
              "<Figure size 640x480 with 1 Axes>"
            ],
            "image/png": "[encoded data removed]"
          },
          "metadata": {}
        }
      ]
    },
    {
      "cell_type": "code",
      "source": [
        "class fishNet():\n",
        "  def __init__(self):\n",
        "    self.l1 = nn.Linear(64,128)\n",
        "    self.act = nn.ReLU()\n",
        "    self.l2 = nn.Linear(128,10)\n",
        "\n",
        "  def forward(self,x):\n",
        "    x = self.l1(x)\n",
        "    x = self.act(x)\n",
        "    x = self.l2(x)\n",
        "    return x\n"
      ],
      "metadata": {
        "id": "plhLpQyxxz0C"
      },
      "execution_count": 20,
      "outputs": []
    },
    {
      "cell_type": "code",
      "source": [
        "model = fishNet()\n",
        "model.forward(torch.tensor(X_train[:10]).float())"
      ],
      "metadata": {
        "colab": {
          "base_uri": "https://localhost:8080/"
        },
        "id": "e4Sm1WgtAU3b",
        "outputId": "40bc800b-2c8e-4b7b-8cd4-106ea839a9e5"
      },
      "execution_count": 42,
      "outputs": [
        {
          "output_type": "execute_result",
          "data": {
            "text/plain": [
              "tensor([[ 1.8762,  1.9432, -1.7819, -1.6811, -3.4477, -1.0798, -1.4360,  0.5731,\n",
              "         -0.0265,  1.7361],\n",
              "        [ 3.1642,  1.7701, -0.9038, -1.8337, -2.5115, -1.6935, -3.7233, -0.2674,\n",
              "         -0.7044,  0.6301],\n",
              "        [ 2.5764,  1.2561, -0.4513, -2.7379, -2.9032, -0.9694, -3.8175,  1.0576,\n",
              "          0.2867,  1.2696],\n",
              "        [ 1.3078,  1.3953, -1.7242, -0.9774, -2.1775, -0.8229, -3.8171,  1.1114,\n",
              "         -0.1478,  0.6427],\n",
              "        [ 2.8336,  0.5668, -1.2166, -2.8337, -2.3945, -0.4779, -2.7306, -0.5707,\n",
              "         -0.7518,  0.4685],\n",
              "        [ 2.0841,  2.0513, -0.3123, -0.8504, -1.0166, -1.5222, -2.4003,  0.8235,\n",
              "          0.8615,  0.6550],\n",
              "        [ 2.2106,  0.5866, -2.2983, -2.0526, -3.4314, -0.9677, -2.8323,  0.8581,\n",
              "          0.9095,  2.1771],\n",
              "        [ 1.3976,  1.4626, -2.5734, -2.2598, -3.4248, -0.7220, -2.4490,  1.2928,\n",
              "         -0.1371,  1.7901],\n",
              "        [ 3.0396,  1.0357, -2.2674, -1.2434, -1.1850, -1.2049, -3.3550, -0.0378,\n",
              "          0.2687, -0.3980],\n",
              "        [ 1.3349,  1.8954, -2.0365, -2.6213, -2.4972, -1.7336, -2.6359,  2.0796,\n",
              "          1.6356,  2.8807]], grad_fn=<AddmmBackward0>)"
            ]
          },
          "metadata": {},
          "execution_count": 42
        }
      ]
    },
    {
      "cell_type": "code",
      "source": [
        "# take 32 example from X_train\n",
        "BS = 32\n",
        "for i in range(1):\n",
        "  sample = np.random.randint(0,X_train.shape[0],size=BS)  # 32 random ints (0-64 / number of training examples)\n",
        "  X_batch = X_train[sample]                               # select random training examples\n",
        "  y_batch = y_train[sample]                               # select those same labels\n",
        "  out = model.forward(torch.tensor(X_batch).float())      # give 10 probabilities for each of 32 examples\n",
        "print(y_batch[0], out[0])     # correct label and [wrong] probabilities for that example"
      ],
      "metadata": {
        "colab": {
          "base_uri": "https://localhost:8080/"
        },
        "id": "4OgxzVG2HloZ",
        "outputId": "e925c765-b590-4336-cc0a-65f84fa63b0b"
      },
      "execution_count": 69,
      "outputs": [
        {
          "output_type": "stream",
          "name": "stdout",
          "text": [
            "4 tensor([ 3.5269,  0.9945, -1.2426, -1.5177, -0.9193, -1.2457, -2.3060,  2.8708,\n",
            "         1.5846,  0.2412], grad_fn=<SelectBackward0>)\n"
          ]
        }
      ]
    },
    {
      "cell_type": "code",
      "source": [],
      "metadata": {
        "id": "2Nu3uL_mIEco"
      },
      "execution_count": null,
      "outputs": []
    }
  ]
}