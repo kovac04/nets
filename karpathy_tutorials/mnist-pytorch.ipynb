{
 "cells": [
  {
   "cell_type": "markdown",
   "metadata": {
    "colab_type": "text",
    "id": "view-in-github"
   },
   "source": [
    "<a href=\"https://colab.research.google.com/github/kovac04/nets/blob/main/0_to_stable_diffusion/mnist_pytorch.ipynb\" target=\"_parent\"><img src=\"https://colab.research.google.com/assets/colab-badge.svg\" alt=\"Open In Colab\"/></a>"
   ]
  },
  {
   "cell_type": "code",
   "execution_count": 1,
   "metadata": {
    "id": "j1-BeC2dtz3J"
   },
   "outputs": [],
   "source": [
    "import numpy as np\n",
    "import torch\n",
    "import torch.nn as nn\n",
    "from sklearn import datasets, svm, metrics\n",
    "from sklearn.model_selection import train_test_split\n",
    "from sklearn.datasets import load_digits\n",
    "import matplotlib.pyplot as plt\n",
    "from tqdm import trange"
   ]
  },
  {
   "cell_type": "code",
   "execution_count": 2,
   "metadata": {
    "colab": {
     "base_uri": "https://localhost:8080/",
     "height": 503
    },
    "id": "cT2-2flat5jF",
    "outputId": "421ab045-69a0-436b-f4ef-d09d38012289"
   },
   "outputs": [
    {
     "name": "stdout",
     "output_type": "stream",
     "text": [
      "26\n",
      "[ 0.  0.  0. 11.  8.  0.  0.  0.  0.  0.  6. 15.  2.  0.  0.  0.  0.  0.\n",
      " 13.  8.  0.  4.  7.  0.  0.  5. 16.  2.  2. 13.  9.  0.  0. 10. 15. 12.\n",
      " 15. 14.  1.  0.  0.  6. 16.  9. 16.  5.  0.  0.  0.  0.  0.  6. 14.  1.\n",
      "  0.  0.  0.  0.  0. 14.  7.  0.  0.  0.]\n"
     ]
    },
    {
     "data": {
      "image/png": "[encoded data removed]",
      "text/plain": [
       "<Figure size 640x480 with 1 Axes>"
      ]
     },
     "metadata": {},
     "output_type": "display_data"
    }
   ],
   "source": [
    "mnist = load_digits()\n",
    "X,y = mnist.data, mnist.target\n",
    "X_train, X_test, y_train, y_test = train_test_split(X, y, test_size=0.33, random_state=1)\n",
    "print(np.argmax(X_train[5]))\n",
    "plt.imshow(X_train[5].reshape(8,8),cmap='gray')\n",
    "print(X_train[5])"
   ]
  },
  {
   "cell_type": "code",
   "execution_count": 3,
   "metadata": {
    "id": "plhLpQyxxz0C"
   },
   "outputs": [],
   "source": [
    "# Model\n",
    "# called it fish because why not\n",
    "class fishNet(torch.nn.Module):\n",
    "  def __init__(self):\n",
    "    super(fishNet, self).__init__()\n",
    "    self.l1 = nn.Linear(64,128) # given 128 neurons, with 64 random weights + 1 bias each\n",
    "    self.act = nn.ReLU()\n",
    "    self.l2 = nn.Linear(128,10)\n",
    "\n",
    "  def forward(self,x):\n",
    "    x = self.l1(x)\n",
    "    x = self.act(x)\n",
    "    x = self.l2(x)\n",
    "    return x"
   ]
  },
  {
   "cell_type": "code",
   "execution_count": 4,
   "metadata": {
    "colab": {
     "base_uri": "https://localhost:8080/"
    },
    "id": "e4Sm1WgtAU3b",
    "outputId": "378f64d6-4cab-4849-8968-a71eed564f02"
   },
   "outputs": [
    {
     "data": {
      "text/plain": [
       "tensor([[ 3.7917,  3.1942, -0.8348, -1.9961,  1.0081,  2.8301, -2.1100,  0.0903,\n",
       "         -0.8790, -0.7444],\n",
       "        [ 1.4214,  4.0882,  0.3602, -2.3033,  1.5134,  1.5491,  0.8274,  0.3408,\n",
       "         -0.1784,  0.2421],\n",
       "        [ 1.2989,  3.8284,  0.1457, -1.9246,  0.2274,  2.7600,  0.0881, -0.3959,\n",
       "         -0.0087, -2.0487],\n",
       "        [ 0.9714,  3.0861, -0.5884, -0.3270,  0.0545,  3.4105,  0.9531,  0.7146,\n",
       "         -2.3115, -0.9671],\n",
       "        [ 2.3436,  3.4545, -1.0431, -1.7913,  0.7044,  3.1271,  0.0776,  0.6821,\n",
       "          0.4933, -1.0337],\n",
       "        [-0.2857,  2.0229,  1.0794, -1.8876,  0.9748,  2.8841,  1.2863,  0.1213,\n",
       "         -1.8266, -3.0221],\n",
       "        [ 2.5752,  5.0136, -0.9406, -1.6078,  0.9046,  2.7217, -1.2136,  0.9791,\n",
       "          0.4645, -0.9149],\n",
       "        [ 3.6343,  3.4758, -0.8439, -2.3131,  0.6363,  3.3278, -1.7781,  0.2557,\n",
       "         -0.5965, -1.3000],\n",
       "        [-0.3550,  2.5905,  0.4521, -1.1721,  0.2738,  2.7237, -0.8291, -1.0314,\n",
       "         -0.2273,  0.3338],\n",
       "        [-0.6608,  3.2881, -0.4530, -2.7400,  1.5605,  3.3361,  0.9085,  0.1244,\n",
       "         -0.7721, -2.2602]], grad_fn=<AddmmBackward0>)"
      ]
     },
     "execution_count": 4,
     "metadata": {},
     "output_type": "execute_result"
    }
   ],
   "source": [
    "model = fishNet()\n",
    "model.forward(torch.tensor(X_train[:10]).float())"
   ]
  },
  {
   "cell_type": "code",
   "execution_count": 5,
   "metadata": {
    "colab": {
     "base_uri": "https://localhost:8080/"
    },
    "id": "4OgxzVG2HloZ",
    "outputId": "abd5bc30-1ee6-440b-cc00-ef3681718ea6"
   },
   "outputs": [
    {
     "name": "stderr",
     "output_type": "stream",
     "text": [
      "loss 0.00000 accuracy 1.00000: 100%|████████████████████████████████████████████████| 10000/10000 [00:15<00:00, 643.46it/s]"
     ]
    },
    {
     "name": "stdout",
     "output_type": "stream",
     "text": [
      "\n",
      "true label = 8, prediction = 8\n"
     ]
    },
    {
     "name": "stderr",
     "output_type": "stream",
     "text": [
      "\n"
     ]
    }
   ],
   "source": [
    "# Training\n",
    "\n",
    "# take 32 example from X_train\n",
    "BS = 32\n",
    "loss_function = torch.nn.CrossEntropyLoss()     # cross entropy loss function for n categories\n",
    "optim = torch.optim.AdamW(model.parameters())   # adamW optimizer, with model's parameters\n",
    "for i in (t:=trange(10000)):\n",
    "  sample = np.random.randint(0,X_train.shape[0],size=BS,)  # 32 random ints * number of training examples\n",
    "  X_batch = X_train[sample]                 # select random training examples\n",
    "  y_batch = y_train[sample]                             # select those same labels\n",
    "  y_pred = model.forward(torch.tensor(X_batch).float()) # give 10 probabilities for each of 32 examples / 32x10 tensor\n",
    "  cat = torch.argmax(y_pred,dim=1)  # squish all cols into 1 col (32x1 tensor), store indices of max value in each column\n",
    "  accuracy = (cat == torch.tensor(y_batch)).float().mean()\n",
    "  loss = loss_function(y_pred,torch.tensor(y_batch))      # get loss on 32 current exam\n",
    "  optim.zero_grad()   # zero all gradients\n",
    "  loss.backward()     # backprop through loss function\n",
    "  optim.step()        # learn\n",
    "  t.set_description(\"loss %.5f accuracy %0.5f\"%(loss,accuracy))\n",
    "print(f\"\\ntrue label = {y_batch[0]}, prediction = {cat[0].item()}\")     # correct label and [wrong] probabilities for that example\n",
    "\n",
    "# 1. loss function computes the loss on the small batch\n",
    "# 2. set the gradient to zero\n",
    "# 3. take the derivatives of the loss function\n",
    "# 4. learn by stepping with the optimizer"
   ]
  },
  {
   "cell_type": "code",
   "execution_count": 6,
   "metadata": {
    "colab": {
     "base_uri": "https://localhost:8080/"
    },
    "id": "2Nu3uL_mIEco",
    "outputId": "f62ca695-ea34-451c-dab7-e4f8b504a41f"
   },
   "outputs": [
    {
     "name": "stdout",
     "output_type": "stream",
     "text": [
      "pred = 1 , label = 1\n",
      "pred = 5 , label = 5\n",
      "pred = 0 , label = 0\n",
      "pred = 7 , label = 7\n",
      "pred = 1 , label = 1\n",
      "pred = 0 , label = 0\n",
      "pred = 6 , label = 6\n",
      "pred = 1 , label = 1\n",
      "pred = 5 , label = 5\n",
      "pred = 4 , label = 4\n",
      "pred = 9 , label = 9\n",
      "pred = 2 , label = 2\n",
      "pred = 7 , label = 7\n",
      "pred = 8 , label = 8\n",
      "pred = 4 , label = 4\n",
      "pred = 6 , label = 6\n",
      "pred = 9 , label = 9\n",
      "pred = 3 , label = 3\n",
      "pred = 7 , label = 7\n",
      "pred = 4 , label = 4\n",
      "pred = 7 , label = 7\n",
      "pred = 1 , label = 1\n",
      "pred = 8 , label = 8\n",
      "pred = 6 , label = 6\n",
      "pred = 0 , label = 0\n",
      "pred = 9 , label = 9\n",
      "pred = 6 , label = 6\n",
      "pred = 1 , label = 1\n",
      "pred = 3 , label = 3\n",
      "pred = 7 , label = 7\n",
      "pred = 5 , label = 5\n",
      "pred = 9 , label = 9\n",
      "pred = 8 , label = 8\n",
      "pred = 3 , label = 3\n",
      "pred = 2 , label = 2\n",
      "pred = 8 , label = 8\n",
      "pred = 8 , label = 8\n",
      "pred = 1 , label = 1\n",
      "pred = 1 , label = 1\n",
      "pred = 0 , label = 0\n",
      "pred = 7 , label = 7\n",
      "pred = 9 , label = 9\n",
      "pred = 0 , label = 0\n",
      "pred = 0 , label = 0\n",
      "pred = 8 , label = 8\n",
      "pred = 7 , label = 7\n",
      "pred = 2 , label = 2\n",
      "pred = 7 , label = 7\n",
      "pred = 4 , label = 4\n",
      "pred = 3 , label = 3\n",
      "pred = 4 , label = 4\n",
      "pred = 3 , label = 3\n",
      "pred = 4 , label = 4\n",
      "pred = 0 , label = 0\n",
      "pred = 4 , label = 4\n",
      "pred = 7 , label = 7\n",
      "pred = 0 , label = 0\n",
      "pred = 5 , label = 5\n",
      "pred = 5 , label = 5\n",
      "pred = 5 , label = 5\n",
      "pred = 2 , label = 2\n",
      "pred = 1 , label = 1\n",
      "pred = 7 , label = 7\n",
      "pred = 0 , label = 0\n",
      "pred = 5 , label = 5\n",
      "pred = 1 , label = 1\n",
      "pred = 8 , label = 8\n",
      "pred = 3 , label = 3\n",
      "pred = 3 , label = 3\n",
      "pred = 4 , label = 4\n",
      "pred = 0 , label = 0\n",
      "pred = 3 , label = 3\n",
      "pred = 7 , label = 7\n",
      "pred = 4 , label = 4\n",
      "pred = 3 , label = 3\n",
      "pred = 4 , label = 4\n",
      "pred = 2 , label = 2\n",
      "pred = 9 , label = 9\n",
      "pred = 7 , label = 7\n",
      "pred = 3 , label = 3\n",
      "pred = 2 , label = 2\n",
      "pred = 5 , label = 5\n",
      "pred = 3 , label = 3\n",
      "pred = 4 , label = 4\n",
      "pred = 1 , label = 1\n",
      "pred = 5 , label = 5\n",
      "pred = 5 , label = 5\n",
      "pred = 2 , label = 2\n",
      "pred = 1 , label = 5\n",
      "88\n",
      "pred = 2 , label = 2\n",
      "pred = 2 , label = 2\n",
      "pred = 2 , label = 2\n",
      "pred = 2 , label = 2\n",
      "pred = 7 , label = 7\n",
      "pred = 0 , label = 0\n",
      "pred = 8 , label = 8\n",
      "pred = 1 , label = 1\n",
      "pred = 7 , label = 7\n",
      "pred = 4 , label = 4\n",
      "pred = 2 , label = 2\n",
      "0.9814814814814815\n"
     ]
    }
   ],
   "source": [
    "# Evaluation\n",
    "\n",
    "y_preds_final = torch.argmax(model.forward(torch.tensor(X_test).float()) , dim=1).numpy()\n",
    "eval = (y_preds_final == y_test).mean()\n",
    "for i in range(100):\n",
    "  print(f\"pred = {y_preds_final[i]} , label = {y_test[i]}\")\n",
    "  if(y_preds_final[i] != y_test[i]):print(i)\n",
    "print(eval)"
   ]
  },
  {
   "cell_type": "code",
   "execution_count": null,
   "metadata": {},
   "outputs": [],
   "source": []
  }
 ],
 "metadata": {
  "colab": {
   "authorship_tag": "ABX9TyPfgbDbVRvgkxsZgkFowNzq",
   "include_colab_link": true,
   "provenance": [],
   "toc_visible": true
  },
  "kernelspec": {
   "display_name": "Python 3.10",
   "language": "python",
   "name": "python3.10"
  },
  "language_info": {
   "codemirror_mode": {
    "name": "ipython",
    "version": 3
   },
   "file_extension": ".py",
   "mimetype": "text/x-python",
   "name": "python",
   "nbconvert_exporter": "python",
   "pygments_lexer": "ipython3",
   "version": "3.10.7"
  }
 },
 "nbformat": 4,
 "nbformat_minor": 4
}
