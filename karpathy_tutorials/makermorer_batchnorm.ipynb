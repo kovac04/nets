{
 "cells": [
  {
   "cell_type": "code",
   "execution_count": 1,
   "id": "61703b5f-2e54-4186-a52b-9f2035cbabfc",
   "metadata": {},
   "outputs": [],
   "source": [
    "import torch\n",
    "import numpy as np\n",
    "from matplotlib import pyplot as plt\n",
    "\n",
    "import torch.nn.functional as F"
   ]
  },
  {
   "cell_type": "code",
   "execution_count": 2,
   "id": "9463a953-c998-40b0-a44c-86d81c79604d",
   "metadata": {},
   "outputs": [
    {
     "name": "stdout",
     "output_type": "stream",
     "text": [
      "{'a': 1, 'b': 2, 'c': 3, 'd': 4, 'e': 5, 'f': 6, 'g': 7, 'h': 8, 'i': 9, 'j': 10, 'k': 11, 'l': 12, 'm': 13, 'n': 14, 'o': 15, 'p': 16, 'q': 17, 'r': 18, 's': 19, 't': 20, 'u': 21, 'v': 22, 'w': 23, 'x': 24, 'y': 25, 'z': 26, '.': 0}\n"
     ]
    }
   ],
   "source": [
    "names = open(\"names.txt\", \"r\").read().splitlines()\n",
    "chars = sorted(list(set(''.join(names))))\n",
    "stoi = {s:i+1 for i,s in enumerate(chars)}\n",
    "stoi['.'] = 0\n",
    "itos = {i:s for s,i in stoi.items()}\n",
    "print(stoi)"
   ]
  },
  {
   "cell_type": "code",
   "execution_count": 3,
   "id": "b0fab94d-795e-4e4d-ae55-528bfa848faf",
   "metadata": {},
   "outputs": [],
   "source": [
    "def build_dataset(names):\n",
    "    block_size = 3 #context length of how many chars we take to predict the next char\n",
    "    X, Y = [],[]\n",
    "    \n",
    "    for w in names:\n",
    "        context = [0] * block_size\n",
    "        for ch in w + \".\":\n",
    "            ix = stoi[ch]\n",
    "            X.append(context)\n",
    "            Y.append(ix)\n",
    "            #print(''.join(itos[i] for i in context), '--->', itos[ix])\n",
    "            context = context[1:] + [ix] # rolling window, makes sense when you run it\n",
    "    \n",
    "    X = torch.tensor(X)\n",
    "    Y = torch.tensor(Y)\n",
    "    return X,Y"
   ]
  },
  {
   "cell_type": "code",
   "execution_count": 4,
   "id": "7423eac0-7959-4062-b640-d56a7a6b19d7",
   "metadata": {},
   "outputs": [],
   "source": [
    "\n",
    "import random\n",
    "random.seed(42)\n",
    "random.shuffle(names)\n",
    "X_train, Y_train = build_dataset(names[:int(0.8*len(names))]) #get first 80% of the dataset\n",
    "X_valid, Y_valid = build_dataset(names[int(0.8*len(names)):int(0.9*len(names))]) # get between 80%-90%\n",
    "X_test, Y_test = build_dataset(names[int(0.9*len(names)):]) # get last 10% of dataset"
   ]
  },
  {
   "cell_type": "code",
   "execution_count": 5,
   "id": "5016b5ae-a73a-4be6-b973-0a45123bd49b",
   "metadata": {},
   "outputs": [
    {
     "data": {
      "text/plain": [
       "(torch.Size([182625, 3]), torch.Size([22655, 3]), torch.Size([22866, 3]))"
      ]
     },
     "execution_count": 5,
     "metadata": {},
     "output_type": "execute_result"
    }
   ],
   "source": [
    "X_train.shape, X_valid.shape, X_test.shape"
   ]
  },
  {
   "cell_type": "markdown",
   "id": "4627c364-6744-463b-bf90-a78122ec0873",
   "metadata": {},
   "source": [
    "##### ======================================\n",
    "#### We want our probabilities that get fed into softmax to be 100% uniform on the 1st run, that is because the lowest probability for each char should be 1/27. \n",
    "#### When we calculate the loss with logits and Y_train[x], we get loss=27, which should be ~3.29 according to our cross entropy loss calculation. So we want uniform logits, how do we do that? If all logits would be close to 0, they'd all roughly be equal, so let's try to not add bias (*0), and reduce our weights for the last layer (*0.01). Now, we start with loss=3.31 !!\n",
    "-------------\n",
    "\n",
    "#### Now, we also have a problem with our tanh function. Most values by far, take values very very close to -1 and 1. This means that the gradient for these activations is 0. Let's check below how often our h (activation) is in that flat region of tanh. Run below cell only after forward/backward cell which is below. In all white cells, the gradient would be squashed to 0, leading to dead potentially dead neurons (neurons that always have gradient 0 and thus never learn for all 32 examples)\n",
    "#### To fix this, we obviously need to make sure that our activations (h) is not -1 or 1 or really close to those. We can also try to reduce the bias and weights in the first layer. Boom! No more white neurons that have 0 gradients. Setting weights and biases closer to 0 helped!\n",
    "-------------\n",
    "\n",
    "#### Now, let's not magically \"weight\" to 0 as it doesn't seem like a great idea. Let's do something more professional: set them to be Gaussian. This is called the Kaiming initialization, named after Kaiming He (author of \"Delving Deep into Rectifiers\"). The point here is to stop vanishing/exploding activations and gradients at the start of training. Kaiming init keeps the variance of inputs and outputs the same, even though activation functions like tanh would \"squash\" the outputs of the previous layer, thus reducing the variance. Whatever the outputs are from the last layer, in our tanh layer, every single input gets mapped to [-1,1], so we lose some variance. The way this keeps variance constant is by multiplying it by some \"gain\" and dividing it by the fan_in)=. The gain is there to account for how much variance we lose depending on which activation function we are using. Gain for ReLU = 2, because we lose 1/2 of variance because 1/2 of inputs get mapped to 0. For tanh, we use 5/3 for some reason (it still counters squashing of variance, so we are probably losing 3/5 of it). However, this does not help with activation and gradient explosions/vanishing during longer training. So we introduce batch normalization\n",
    "-------------\n",
    "\n",
    "#### Batch Norm normalizes the pre-activations to be roughly Gaussian. The normalization is done for each neuron, across all training examples in the batch. Since X.shape = (batchsize, #features) and W.shape = (#features, #neurons), we will end up with µ.shape = std.shape = (1,#neurons), which we will apply [element wise] to our pre-activations. However, strict optimization isn't always optimal for all data distributions or layers in the network, so we want to allow our network to undo the normalization if it thinks it's better. So, we introduce 2 more parameters, called Beta and Gamma. Since we applied our µ and std element wise (as they're (1,#neurons) vectors), we want to apply Beta and Gamma the same way, so they're both gonna be (1,#neurons). Beta is the shift, Gamma is the scaling, so Beta is initiliazed to 0, and Gamma initialized to 1. If we already have a learnable parameter that is a shift, we might as well get rid our bias term in this batch-normed layer.\n",
    "-------------\n",
    "#### We, however, face another problem now. First, we started by training our neural network example by example, then we introduced batches, where our examples were still separated and had nothing to do with each other, but now, with Batch Norm, all of our training examples are a function of each other, because we normalized them across examples. We can't simply feed in a single training example now, as our network is not used to it and hasn't optimized for it. To counter this, we can calculate a running mean and running std during our training, and on each iteration, update those \"running\" stats a little bit. It is a kind of a running average, so we need a small value alpha. The initialization is the same, but the update is running_µ(1-alpha) + current_µ(alpha), and same for std. Then, for test time and for inference, we will also normalize the data, but we will use the running mean and running std."
   ]
  },
  {
   "cell_type": "code",
   "execution_count": 6,
   "id": "1978f831-b402-428c-9d14-e4349fa16d1b",
   "metadata": {},
   "outputs": [],
   "source": [
    "#plt.figure(figsize=(20,10))\n",
    "#plt.imshow(h.abs() > 0.99, cmap=\"gray\", interpolation=\"nearest\")\n",
    "# activation for all 200 neurons, for the 32 batch examples."
   ]
  },
  {
   "cell_type": "code",
   "execution_count": 7,
   "id": "c1eedec2-1d14-404d-b55c-9d9c4114b743",
   "metadata": {},
   "outputs": [
    {
     "name": "stdout",
     "output_type": "stream",
     "text": [
      "tensor([3.2958])\n"
     ]
    }
   ],
   "source": [
    "print(-torch.tensor([1/27]).log())\n",
    "n_hidden = 30\n",
    "n_out = 27\n",
    "g = torch.Generator().manual_seed(2147483647)\n",
    "C = torch.randn((27,10), generator=g)\n",
    "W1 = torch.randn((n_hidden,200), generator=g) * (5/3 / (n_hidden**0.5))\n",
    "                                            # each neuron here will get #features inputs. = emb.view(-1, emb_cols) = whatever,30\n",
    "#b1 = torch.randn(200, generator=g) * 0.01\n",
    "W2 = torch.randn((200,n_out), generator=g) * 0.01\n",
    "b2 = torch.randn(n_out, generator=g) * 0\n",
    "\n",
    "gamma = torch.ones((1, W1.shape[1]))\n",
    "beta = torch.zeros((1, W1.shape[1]))\n",
    "\n",
    "mean_running = torch.zeros((1, W1.shape[1]))\n",
    "std_running = torch.ones((1, W1.shape[1]))\n",
    "\n",
    "params = [C, W1, W2, b2, gamma, beta]"
   ]
  },
  {
   "cell_type": "code",
   "execution_count": 8,
   "id": "c7b68f15-8e87-446a-84f8-5dfbdc6e226b",
   "metadata": {},
   "outputs": [],
   "source": [
    "for p in params:\n",
    "    p.requires_grad=True"
   ]
  },
  {
   "cell_type": "code",
   "execution_count": 9,
   "id": "5016455f-e096-487e-84eb-2eb98b685751",
   "metadata": {},
   "outputs": [],
   "source": [
    "lossi = []\n",
    "stepi = []"
   ]
  },
  {
   "cell_type": "code",
   "execution_count": 10,
   "id": "58add030-79c4-4872-98a4-18e968b6518e",
   "metadata": {},
   "outputs": [
    {
     "name": "stdout",
     "output_type": "stream",
     "text": [
      "tensor(2.1861, grad_fn=<NllLossBackward0>)\n"
     ]
    }
   ],
   "source": [
    "eps = 1e-5\n",
    "alpha = 1e-3\n",
    "for i in range(100000):\n",
    "    #forward pass\n",
    "    ix = torch.randint(0,X_train.shape[0],(32,))\n",
    "    emb = C[X_train[ix]]\n",
    "    embinput = emb.view(-1,n_hidden)\n",
    "    hpreact = embinput @ W1\n",
    "    mean_i = hpreact.mean(dim=0,keepdims=True)\n",
    "    std_i = hpreact.std(dim=0,keepdims=True) + eps\n",
    "    hpreact = gamma*(hpreact - mean_i) / std_i + beta\n",
    "\n",
    "    with torch.no_grad():\n",
    "        mean_running = mean_running*(1-alpha) + mean_i*(alpha)\n",
    "        std_running = std_running*(1-alpha) + std_i*(alpha)\n",
    "\n",
    "    h = torch.tanh(hpreact)\n",
    "    logits = h @ W2 + b2 # output from our network\n",
    "    loss = F.cross_entropy(logits, Y_train[ix])\n",
    "    \n",
    "        # backward pass\n",
    "    # zero out all gradients\n",
    "    for p in params:\n",
    "        p.grad = None # same as setting to 0\n",
    "    loss.backward()\n",
    "    \n",
    "    lr = 0.1 if i<80000 else 0.001 # decay\n",
    "    for p in params:\n",
    "        p.data += -lr*p.grad\n",
    "\n",
    "    # track stats\n",
    "    #lri.append(lre[i])\n",
    "    stepi.append(i)\n",
    "    lossi.append(loss.log10().item())\n",
    "print(loss)"
   ]
  },
  {
   "cell_type": "code",
   "execution_count": 11,
   "id": "1dd5798b-9140-48ab-b40a-0652b7be190e",
   "metadata": {
    "scrolled": true
   },
   "outputs": [
    {
     "data": {
      "text/plain": [
       "[<matplotlib.lines.Line2D at 0x12fbc4700>]"
      ]
     },
     "execution_count": 11,
     "metadata": {},
     "output_type": "execute_result"
    },
    {
     "data": {
      "image/png": "[encoded data removed]",
      "text/plain": [
       "<Figure size 640x480 with 1 Axes>"
      ]
     },
     "metadata": {},
     "output_type": "display_data"
    }
   ],
   "source": [
    "plt.plot(stepi, lossi)"
   ]
  },
  {
   "cell_type": "code",
   "execution_count": 12,
   "id": "9b96d591-ec14-4666-adf0-d33f09646473",
   "metadata": {},
   "outputs": [
    {
     "name": "stdout",
     "output_type": "stream",
     "text": [
      "tensor(2.4742, grad_fn=<NllLossBackward0>)\n"
     ]
    }
   ],
   "source": [
    "# eval loss on full training data set after training\n",
    "#------------\n",
    "\n",
    "emb = C[X_train]\n",
    "embinput = emb.view(-1,n_hidden)\n",
    "hpreact = embinput @ W1\n",
    "hpreact = gamma*((hpreact - mean_running) / (std_running + eps)) + beta\n",
    "h = torch.tanh(hpreact)\n",
    "logits = h @ W2 + b2 # output from our network\n",
    "loss = F.cross_entropy(logits, Y_train)\n",
    "print(loss)"
   ]
  },
  {
   "cell_type": "code",
   "execution_count": 13,
   "id": "e4ca964a-f8f8-4a7d-a285-7e1d2bf9cb2e",
   "metadata": {},
   "outputs": [
    {
     "name": "stdout",
     "output_type": "stream",
     "text": [
      "tensor(2.4703, grad_fn=<NllLossBackward0>)\n"
     ]
    }
   ],
   "source": [
    "# eval loss on full validation data set after training\n",
    "#------------\n",
    "\n",
    "emb = C[X_test]\n",
    "embinput = emb.view(-1,n_hidden)\n",
    "hpreact = embinput @ W1\n",
    "hpreact = gamma*((hpreact - mean_running) / (std_running + eps)) + beta\n",
    "h = torch.tanh(hpreact)\n",
    "logits = h @ W2 + b2 # output from our network\n",
    "loss = F.cross_entropy(logits, Y_test)\n",
    "print(loss)"
   ]
  },
  {
   "cell_type": "code",
   "execution_count": 14,
   "id": "fe17bed6-d09b-4b64-b1db-302294893017",
   "metadata": {},
   "outputs": [
    {
     "name": "stdout",
     "output_type": "stream",
     "text": [
      "chrpahxqtorhl.\n",
      "khlimrri.\n",
      "thve.\n",
      "halanskejazhnel.\n",
      "dmerric.\n",
      "kaqhig.\n",
      "hamararchaiiv.\n",
      "janegy.\n",
      "hhlm.\n",
      "join.\n",
      "qhinn.\n",
      "shlin.\n",
      "alian.\n",
      "qhirathogdiaryxi.\n",
      "janeelinsa.\n",
      "med.\n",
      "edoi.\n",
      "tetlaley.\n",
      "fryah.\n",
      "asmina.\n"
     ]
    }
   ],
   "source": [
    "# To end this off, let's sample from the model\n",
    "#------------\n",
    "\n",
    "block_size = 3\n",
    "g = torch.Generator().manual_seed(2147483647+10)\n",
    "for _ in range(20):\n",
    "    out = []\n",
    "    context = [0] * block_size\n",
    "    while True:\n",
    "        emb = C[torch.tensor([context])] # before it was (size of X, embedding vector dimension), but now we just need 1 example\n",
    "        embinput = emb.view(-1,n_hidden)\n",
    "        hpreact = embinput @ W1\n",
    "        hpreact = gamma*((hpreact - mean_running) / (std_running + eps)) + beta\n",
    "        h = torch.tanh(hpreact)\n",
    "        logits = h @ W2 + b2\n",
    "        probs = F.softmax(logits,dim=1) # same as before, exponentiates, makes them sum to 1\n",
    "        ix = torch.multinomial(probs, num_samples=1, generator=g).item()\n",
    "        context = context[1:] + [ix] # sliding window again\n",
    "        out.append(ix)\n",
    "        if(ix == 0):\n",
    "            break\n",
    "    print(''.join(itos[i] for i in out))"
   ]
  },
  {
   "cell_type": "code",
   "execution_count": null,
   "id": "3aec1423-33fa-4eb7-af43-d907b4e5ac12",
   "metadata": {},
   "outputs": [],
   "source": []
  }
 ],
 "metadata": {
  "kernelspec": {
   "display_name": "Python 3 (ipykernel)",
   "language": "python",
   "name": "python3"
  },
  "language_info": {
   "codemirror_mode": {
    "name": "ipython",
    "version": 3
   },
   "file_extension": ".py",
   "mimetype": "text/x-python",
   "name": "python",
   "nbconvert_exporter": "python",
   "pygments_lexer": "ipython3",
   "version": "3.10.7"
  }
 },
 "nbformat": 4,
 "nbformat_minor": 5
}
