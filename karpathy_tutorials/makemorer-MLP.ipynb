{
 "cells": [
  {
   "cell_type": "markdown",
   "id": "6f415e01-b2e5-4e84-8272-640b59f407b1",
   "metadata": {},
   "source": [
    "### Based on this paper: https://www.jmlr.org/papers/volume3/bengio03a/bengio03a.pdf"
   ]
  },
  {
   "cell_type": "code",
   "execution_count": 4,
   "id": "16522c72-a61a-43f5-949f-c9c9fdcdf509",
   "metadata": {},
   "outputs": [],
   "source": [
    "from unicodedata import name\n",
    "import torch\n",
    "import torch.nn.functional as F\n",
    "import matplotlib.pyplot as plt\n",
    "import numpy as np"
   ]
  },
  {
   "cell_type": "code",
   "execution_count": 149,
   "id": "f27d7000-c164-4078-a12e-d6d0e97e15f3",
   "metadata": {},
   "outputs": [],
   "source": [
    "names = open(\"names.txt\", \"r\").read().splitlines()"
   ]
  },
  {
   "cell_type": "code",
   "execution_count": 6,
   "id": "e74720a0-9355-4336-b7f1-9de2c0ff3258",
   "metadata": {},
   "outputs": [
    {
     "data": {
      "text/plain": [
       "['emma',\n",
       " 'olivia',\n",
       " 'ava',\n",
       " 'isabella',\n",
       " 'sophia',\n",
       " 'charlotte',\n",
       " 'mia',\n",
       " 'amelia',\n",
       " 'harper',\n",
       " 'evelyn']"
      ]
     },
     "execution_count": 6,
     "metadata": {},
     "output_type": "execute_result"
    }
   ],
   "source": [
    "names[:10]"
   ]
  },
  {
   "cell_type": "code",
   "execution_count": 7,
   "id": "f732fa69-1ee9-4c8a-8f31-50bb15cdb4e4",
   "metadata": {},
   "outputs": [
    {
     "name": "stdout",
     "output_type": "stream",
     "text": [
      "{'a': 1, 'b': 2, 'c': 3, 'd': 4, 'e': 5, 'f': 6, 'g': 7, 'h': 8, 'i': 9, 'j': 10, 'k': 11, 'l': 12, 'm': 13, 'n': 14, 'o': 15, 'p': 16, 'q': 17, 'r': 18, 's': 19, 't': 20, 'u': 21, 'v': 22, 'w': 23, 'x': 24, 'y': 25, 'z': 26, '.': 0}\n"
     ]
    }
   ],
   "source": [
    "chars = sorted(list(set(''.join(names))))\n",
    "stoi = {s:i+1 for i,s in enumerate(chars)}\n",
    "stoi['.'] = 0\n",
    "itos = {i:s for s,i in stoi.items()}\n",
    "print(stoi)"
   ]
  },
  {
   "cell_type": "code",
   "execution_count": 155,
   "id": "94f5f30e-a4a3-4c8a-af98-0daf5bf433f8",
   "metadata": {
    "scrolled": true
   },
   "outputs": [
    {
     "data": {
      "text/plain": [
       "25626.4"
      ]
     },
     "execution_count": 155,
     "metadata": {},
     "output_type": "execute_result"
    }
   ],
   "source": [
    "def build_dataset(names):\n",
    "    block_size = 3 #context length of how many chars we take to predict the next char\n",
    "    X, Y = [],[]\n",
    "    \n",
    "    for w in names:\n",
    "        context = [0] * block_size\n",
    "        for ch in w + \".\":\n",
    "            ix = stoi[ch]\n",
    "            X.append(context)\n",
    "            Y.append(ix)\n",
    "            #print(''.join(itos[i] for i in context), '--->', itos[ix])\n",
    "            context = context[1:] + [ix] # rolling window, makes sense when you run it\n",
    "    \n",
    "    X = torch.tensor(X)\n",
    "    Y = torch.tensor(Y)\n",
    "    return X,Y"
   ]
  },
  {
   "cell_type": "code",
   "execution_count": 162,
   "id": "4cec0a9e-cb74-40f2-89ff-a7a3c9a2c6b4",
   "metadata": {
    "scrolled": true
   },
   "outputs": [],
   "source": [
    "import random\n",
    "random.seed(42)\n",
    "random.shuffle(names)\n",
    "X_train, Y_train = build_dataset(names[:int(0.8*len(names))]) #get first 80% of the dataset\n",
    "X_valid, Y_valid = build_dataset(names[int(0.8*len(names)):int(0.9*len(names))]) # get between 80%-90%\n",
    "X_test, Y_test = build_dataset(names[int(0.9*len(names)):]) # get last 10% of dataset"
   ]
  },
  {
   "cell_type": "code",
   "execution_count": 165,
   "id": "d5701e39-1d1c-4904-8c56-6b426180b2b5",
   "metadata": {},
   "outputs": [
    {
     "data": {
      "text/plain": [
       "(torch.Size([182580, 3]), torch.Size([22767, 3]), torch.Size([22799, 3]))"
      ]
     },
     "execution_count": 165,
     "metadata": {},
     "output_type": "execute_result"
    }
   ],
   "source": [
    "X_train.shape, X_valid.shape, X_test.shape"
   ]
  },
  {
   "cell_type": "markdown",
   "id": "69565d12-e220-4512-b2aa-deb2668565eb",
   "metadata": {},
   "source": [
    "### Build the embedding look up table C <br />\n",
    "in the paper, they embed 17,000 words into 30 dimension vectors. We can do something similar, but with our 27 possible chars, we can go smaller; like 2 dimensional maybe?"
   ]
  },
  {
   "cell_type": "code",
   "execution_count": 10,
   "id": "fb70e70a-4b1a-4975-a19d-0f413e38ff23",
   "metadata": {},
   "outputs": [],
   "source": [
    "C = torch.randn((27,2)) # has an embedding 2d vector for each of 27 chars we track"
   ]
  },
  {
   "cell_type": "code",
   "execution_count": 11,
   "id": "8f651eda-2084-4f2b-9896-14d57657c2bd",
   "metadata": {},
   "outputs": [
    {
     "data": {
      "text/plain": [
       "torch.Size([32, 3, 2])"
      ]
     },
     "execution_count": 11,
     "metadata": {},
     "output_type": "execute_result"
    }
   ],
   "source": [
    "    #How does C[X] work?\n",
    "# X is a 32,3 matrix, consisting of 32 inputs, with 3 context chars each.\n",
    "# C is an embedding matrix, that has 27 rows, 1 for each token/char, and its corresponding embedding (2d vector)\n",
    "# If X[0] is [0, 1, 2] (meaning the first 3 chars of context), then C[X[0]] would be a tensor formed by stacking the\n",
    "# 0th, 1st, and 2nd rows of C on top of each other, resulting in a 3x2 matrix. This takes out the correct embeddings for each character,\n",
    "# in each 3-char long context, across all input data X. When this operation is applied to all contexts in X, you get a tensor of shape\n",
    "# [32, 3, 2] (assuming you have 32 such contexts generated), where 32 is the total number of such extracted contexts, 3 is the block_size,\n",
    "# and 2 is the dimensionality of each embedding.\n",
    "\n",
    "C[X_train].shape # cool pytorch indexing"
   ]
  },
  {
   "cell_type": "code",
   "execution_count": 18,
   "id": "028ae29c-8573-48c6-aa8b-bc0b2a8eaa3f",
   "metadata": {},
   "outputs": [
    {
     "data": {
      "text/plain": [
       "(tensor([-0.8946,  0.7617]), tensor([0, 0, 1]))"
      ]
     },
     "execution_count": 18,
     "metadata": {},
     "output_type": "execute_result"
    }
   ],
   "source": [
    "# this and the bottom cell are equivalent because C[X] plucks out embeddings (rows) for each of X's elements,\n",
    "# and since the 14th element in X is 1, it directly plucks out C[1]\n",
    "C[X_train][13,2], X[13]"
   ]
  },
  {
   "cell_type": "code",
   "execution_count": 19,
   "id": "7836da84-01b5-4d30-b70d-2a5909cd3e3d",
   "metadata": {},
   "outputs": [
    {
     "data": {
      "text/plain": [
       "tensor([-0.8946,  0.7617])"
      ]
     },
     "execution_count": 19,
     "metadata": {},
     "output_type": "execute_result"
    }
   ],
   "source": [
    "C[1]"
   ]
  },
  {
   "cell_type": "code",
   "execution_count": 20,
   "id": "016f21c7-28fb-4295-82ec-fed5d067d7ea",
   "metadata": {},
   "outputs": [
    {
     "data": {
      "text/plain": [
       "torch.Size([32, 3, 2])"
      ]
     },
     "execution_count": 20,
     "metadata": {},
     "output_type": "execute_result"
    }
   ],
   "source": [
    "# final product = embedding for each of 32 contexts (examples), and for each of their [3] chars\n",
    "emb = C[X]\n",
    "emb.shape "
   ]
  },
  {
   "cell_type": "code",
   "execution_count": 21,
   "id": "128072f1-0ccf-433a-8083-3bdfd78e95f9",
   "metadata": {},
   "outputs": [],
   "source": [
    "W1 = torch.randn((6,100)) # first set of weights (6 weights / neuron) * 100 neurons. 6 -> one context, 3chars*2d-vectors\n",
    "b1 = torch.randn(100) # one bias for each neuron. Broadcasted"
   ]
  },
  {
   "cell_type": "code",
   "execution_count": 25,
   "id": "d87745ec-3353-4465-85c6-f3bffb72a249",
   "metadata": {},
   "outputs": [],
   "source": [
    "# now, we need to somehow connect the 3chars*2d-vectors = 6 numbers in order to pass through this layer. Broadcasting\n",
    "# won't help us with our current dimensions\n",
    "# view() is a very efficient way to change some internal parameters of how our tensor is tracked (shaped) in internal storage\n",
    "# modifies shapes, strides and storage offset(?). All tensors are in reality long 1d arrays. shows that with tensor .storage()\n",
    "\n",
    "emb = emb.view(-1,6)"
   ]
  },
  {
   "cell_type": "code",
   "execution_count": 51,
   "id": "6e677667-c396-4dbd-8412-c0a3d07b2123",
   "metadata": {},
   "outputs": [
    {
     "data": {
      "text/plain": [
       "torch.Size([32, 100])"
      ]
     },
     "execution_count": 51,
     "metadata": {},
     "output_type": "execute_result"
    }
   ],
   "source": [
    "# this is our first layer of activations.\n",
    "h = torch.tanh(emb @ W1 + b1)\n",
    "h.shape"
   ]
  },
  {
   "cell_type": "code",
   "execution_count": 36,
   "id": "5c132d80-c115-492f-b902-4185882f77f8",
   "metadata": {},
   "outputs": [
    {
     "data": {
      "text/plain": [
       "torch.Size([32, 27])"
      ]
     },
     "execution_count": 36,
     "metadata": {},
     "output_type": "execute_result"
    }
   ],
   "source": [
    "W2 = torch.randn((100,27))\n",
    "b2 = torch.randn(27)\n",
    "logits = h @ W2 + b2\n",
    "logits.shape"
   ]
  },
  {
   "cell_type": "code",
   "execution_count": 42,
   "id": "b1a636ce-d9a5-475f-b041-abead175d1a1",
   "metadata": {},
   "outputs": [
    {
     "data": {
      "text/plain": [
       "torch.Size([32, 27])"
      ]
     },
     "execution_count": 42,
     "metadata": {},
     "output_type": "execute_result"
    }
   ],
   "source": [
    "counts = logits.exp()\n",
    "probs = counts / counts.sum(dim=1, keepdims=True)\n",
    "probs.shape"
   ]
  },
  {
   "cell_type": "code",
   "execution_count": 45,
   "id": "6691d241-4f6c-40bb-9edd-e96fdc302223",
   "metadata": {},
   "outputs": [
    {
     "data": {
      "text/plain": [
       "tensor(17.9395)"
      ]
     },
     "execution_count": 45,
     "metadata": {},
     "output_type": "execute_result"
    }
   ],
   "source": [
    "loss = -probs[torch.arange(32), Y].log().mean() #nll again\n",
    "loss"
   ]
  },
  {
   "cell_type": "code",
   "execution_count": 46,
   "id": "9ed7329f-ea70-4778-8d85-c25a5fcd6041",
   "metadata": {},
   "outputs": [],
   "source": [
    "# make the final steps nice again"
   ]
  },
  {
   "cell_type": "code",
   "execution_count": 234,
   "id": "6bfe5ed4-683a-4ac7-97ac-578079f9f961",
   "metadata": {},
   "outputs": [],
   "source": [
    "g = torch.Generator().manual_seed(2147483647)\n",
    "C = torch.randn((27,10), generator=g)\n",
    "W1 = torch.randn((30,200), generator=g) \n",
    "b1 = torch.randn(200, generator=g)\n",
    "W2 = torch.randn((200,27), generator=g) \n",
    "b2 = torch.randn(27, generator=g)\n",
    "params = [C, W1, b1, W2, b2]"
   ]
  },
  {
   "cell_type": "code",
   "execution_count": 235,
   "id": "51cca0b1-43ca-430f-b4eb-b9c8db5d3da2",
   "metadata": {},
   "outputs": [
    {
     "data": {
      "text/plain": [
       "11897"
      ]
     },
     "execution_count": 235,
     "metadata": {},
     "output_type": "execute_result"
    }
   ],
   "source": [
    "sum(p.numel() for p in params) # number of parameters. About 15 openaitillion from sota"
   ]
  },
  {
   "cell_type": "code",
   "execution_count": 236,
   "id": "164dddd6-b651-4f00-b00c-e9a639e7d323",
   "metadata": {},
   "outputs": [
    {
     "name": "stdout",
     "output_type": "stream",
     "text": [
      "tensor(26.0094)\n"
     ]
    },
    {
     "data": {
      "text/plain": [
       "tensor(26.0094)"
      ]
     },
     "execution_count": 236,
     "metadata": {},
     "output_type": "execute_result"
    }
   ],
   "source": [
    "# Forward pass\n",
    "emb = C[X_train]\n",
    "emb_cols = W1.shape[0]\n",
    "h = torch.tanh(emb.view(-1,emb_cols) @ W1 + b1)\n",
    "logits = h @ W2 + b2 # output from our network\n",
    "counts = logits.exp() # 1st repetitive step. For this step, also, pytorch subtracts the largest number so when those nums get exponentiated\n",
    "# there is no numerical overflow ( -> NaaN / infinity )\n",
    "probs = counts / counts.sum(dim=1, keepdims=True) # 2nd repetitive step\n",
    "loss = -probs[torch.arange(probs.shape[0]), Y_train].log().mean() # 3rd repetitive step\n",
    "# don't need to keep doing this, as nn.functional.cross_entropy exists\n",
    "\n",
    "print(F.cross_entropy(logits, Y_train)) # much more efficient. Pytorch does not create all those intermediate tensors. Has fused kernels(?)\n",
    "# these are \"computational kernels\", designed to perform data processing stuff very efficiently. Usually cuda or c++ code that executes\n",
    "# operations on GPUs in parallel. Convs, matmuls, reshapes probably as well. GPU's can run a kernel in each cell, of which there are\n",
    "# thousands. When I call torch.matmul, under the hood, it dispatches a kernel on the GPU that handles the matrix multiplication.\n",
    "# So it's like a function that is very fast.\n",
    "\n",
    "# fused kernels combine several operations into one kernel to optimize performance. Instead of executing multiple sequential kernels\n",
    "# where each performs one operation and passes its result to the next, a fused kernel performs all these operations in a single go\n",
    "loss"
   ]
  },
  {
   "cell_type": "code",
   "execution_count": 237,
   "id": "cfc79dcb-271b-4740-bd23-80136c40425a",
   "metadata": {},
   "outputs": [],
   "source": [
    "for p in params:\n",
    "    p.requires_grad=True"
   ]
  },
  {
   "cell_type": "code",
   "execution_count": 238,
   "id": "b6dc7b5d-62ec-4393-a06a-c5cd73743eef",
   "metadata": {},
   "outputs": [],
   "source": [
    "# let's also include grid search for our learning rate\n",
    "# want to take many lr's in range from [0.001,1]\n",
    "#lre = torch.linspace(-3,0,1000) # learning rate exponents. Doesn't really make sense to step between them linearly so we use exponents\n",
    "#lrs = 10**lre #learning # learning rates\n",
    "#lri = [] # keep track of learning rates in each iter\n",
    "lossi = []\n",
    "stepi = []"
   ]
  },
  {
   "cell_type": "code",
   "execution_count": 247,
   "id": "9f6e9f41-cbce-4fd2-a252-af97ccc6231e",
   "metadata": {},
   "outputs": [],
   "source": [
    "for i in range(50000):\n",
    "    #forward pass\n",
    "    ix = torch.randint(0,X_train.shape[0],(32,))\n",
    "    emb = C[X_train[ix]]\n",
    "    h = torch.tanh(emb.view(-1,emb_cols) @ W1 + b1)\n",
    "    logits = h @ W2 + b2 # output from our network\n",
    "    loss = F.cross_entropy(logits, Y_train[ix])\n",
    "    \n",
    "    # backward pass\n",
    "    # zero out all gradients\n",
    "    for p in params:\n",
    "        p.grad = None # same as setting to 0\n",
    "    loss.backward()\n",
    "    lr = 0.01 #decayed it to 0.001 from 0.1 after 3 iters of this. Loss: 2.5 -> 2.6 -> 2.2 -> 1.86\n",
    "    for p in params:\n",
    "        p.data += -lr*p.grad\n",
    "\n",
    "    # track stats\n",
    "    #lri.append(lre[i])\n",
    "    stepi.append(i)\n",
    "    lossi.append(loss.log10().item())\n",
    "# since we have over 3k params, and for this specific training run only run 32 examples, model very easily overfits and gives low loss\n",
    "# it actually takes too long to perform foward and backward pass on all input data we have. so let's do it in batches"
   ]
  },
  {
   "cell_type": "code",
   "execution_count": 248,
   "id": "e1cbf63a-29e2-4a49-8c55-7ec4d278196f",
   "metadata": {
    "scrolled": true
   },
   "outputs": [
    {
     "data": {
      "text/plain": [
       "[<matplotlib.lines.Line2D at 0x32184dd20>]"
      ]
     },
     "execution_count": 248,
     "metadata": {},
     "output_type": "execute_result"
    },
    {
     "data": {
      "image/png": "[encoded data removed]",
      "text/plain": [
       "<Figure size 640x480 with 1 Axes>"
      ]
     },
     "metadata": {},
     "output_type": "display_data"
    }
   ],
   "source": [
    "# plot the different learning rates\n",
    "plt.plot(stepi, lossi)"
   ]
  },
  {
   "cell_type": "code",
   "execution_count": 249,
   "id": "42ca3ae3-2168-44d2-98a5-dc1388fc3c46",
   "metadata": {},
   "outputs": [
    {
     "name": "stdout",
     "output_type": "stream",
     "text": [
      "tensor(2.1571, grad_fn=<NllLossBackward0>)\n"
     ]
    }
   ],
   "source": [
    "# eval loss on full training data set after training\n",
    "#ix = torch.randint(0,X.shape[0],(32,))\n",
    "emb = C[X_train]\n",
    "h = torch.tanh(emb.view(-1,emb_cols) @ W1 + b1)\n",
    "logits = h @ W2 + b2 # output from our network\n",
    "loss = F.cross_entropy(logits, Y_train)\n",
    "print(loss)"
   ]
  },
  {
   "cell_type": "code",
   "execution_count": 250,
   "id": "68d74066-6a96-4745-9b97-096b521c71c0",
   "metadata": {},
   "outputs": [
    {
     "name": "stdout",
     "output_type": "stream",
     "text": [
      "tensor(2.1861, grad_fn=<NllLossBackward0>)\n"
     ]
    }
   ],
   "source": [
    "# eval loss on full validation data set after training\n",
    "#ix = torch.randint(0,X.shape[0],(32,))\n",
    "emb = C[X_valid]\n",
    "h = torch.tanh(emb.view(-1,emb_cols) @ W1 + b1)\n",
    "logits = h @ W2 + b2 # output from our network\n",
    "loss = F.cross_entropy(logits, Y_valid)\n",
    "print(loss)"
   ]
  },
  {
   "cell_type": "code",
   "execution_count": 251,
   "id": "61d3d5a0-00ea-45da-ac3d-6b40bee35f5d",
   "metadata": {},
   "outputs": [],
   "source": [
    "# loss might seem low, but we trained it on all data we have, including our non-existent test set.\n",
    "# let's separate the data: train,valid,test\n",
    "#                            80%, 10%, 10%. Did that now.\n",
    "# let's now increase the size of the neural net because it doesn't even really seem to be overfitting at all.\n",
    "#    Train loss: 2.25, Valid loss: 2.26\n",
    "\n",
    "# even with increasing number of neurons from 100 to 300, our neural net seems bottlenecked\n",
    "# it could be that our 2d embedding vectors are too small and the net can't model our characters effectively"
   ]
  },
  {
   "cell_type": "code",
   "execution_count": 252,
   "id": "cd4e728c-4586-452d-bde9-f8db56272c79",
   "metadata": {},
   "outputs": [
    {
     "data": {
      "image/png": "[encoded data removed]",
      "text/plain": [
       "<Figure size 800x800 with 1 Axes>"
      ]
     },
     "metadata": {},
     "output_type": "display_data"
    }
   ],
   "source": [
    "# visualizing our embeddings that were trained by our neural net\n",
    "plt.figure(figsize=(8,8))\n",
    "plt.scatter(C[:,0].data, C[:,1].data, s=200)\n",
    "for i in range(C.shape[0]):\n",
    "    plt.text(C[i,0].item(), C[i,1].item(), itos[i], ha=\"center\", va=\"center\", color=\"white\")\n",
    "plt.grid('minor')"
   ]
  },
  {
   "cell_type": "code",
   "execution_count": 253,
   "id": "af0c7375-3701-4dea-b375-e27ba8a769c3",
   "metadata": {},
   "outputs": [],
   "source": [
    "# still doesn't seem to be great. Can keep changing the size of the neural net and tuning the optimization\n",
    "# of the dimensional of the embedding look up table C, the learning rate and its decay, the batchsize, blablabla...\n",
    "# or we can start modelling and keeping track of more than 3 characters"
   ]
  },
  {
   "cell_type": "code",
   "execution_count": 256,
   "id": "8cca8acd-fd9d-47a4-a611-524b9d42d44c",
   "metadata": {},
   "outputs": [
    {
     "name": "stdout",
     "output_type": "stream",
     "text": [
      "carmah.\n",
      "amelle.\n",
      "khiwmre.\n",
      "revty.\n",
      "halaysleer.\n",
      "hutt.\n",
      "deviah.\n",
      "jareei.\n",
      "nellara.\n",
      "chaiivan.\n",
      "legy.\n",
      "dham.\n",
      "pory.\n",
      "quintzonovera.\n",
      "jambi.\n",
      "wazell.\n",
      "dearynix.\n",
      "kaelyighan.\n",
      "edye.\n",
      "iia.\n"
     ]
    }
   ],
   "source": [
    "# To end this off, let's sample from the model\n",
    "g = torch.Generator().manual_seed(2147483647+10)\n",
    "for _ in range(20):\n",
    "    out = []\n",
    "    context = [0] * block_size\n",
    "    while True:\n",
    "        emb = C[torch.tensor([context])] # before it was (size of X, embedding vector dimension), but now we just need 1 example\n",
    "        h = torch.tanh(emb.view(-1,30) @ W1 + b1)\n",
    "        logits = h @ W2 + b2\n",
    "        probs = F.softmax(logits,dim=1) # same as before, exponentiates, makes them sum to 1\n",
    "        ix = torch.multinomial(probs, num_samples=1, generator=g).item()\n",
    "        context = context[1:] + [ix] # sliding window again\n",
    "        out.append(ix)\n",
    "        if(ix == 0):\n",
    "            break\n",
    "    print(''.join(itos[i] for i in out))"
   ]
  },
  {
   "cell_type": "code",
   "execution_count": null,
   "id": "2204dcbf-a961-4289-96dd-92f3cc66b364",
   "metadata": {},
   "outputs": [],
   "source": [
    "# next..."
   ]
  }
 ],
 "metadata": {
  "kernelspec": {
   "display_name": "Python 3.10",
   "language": "python",
   "name": "python3.10"
  },
  "language_info": {
   "codemirror_mode": {
    "name": "ipython",
    "version": 3
   },
   "file_extension": ".py",
   "mimetype": "text/x-python",
   "name": "python",
   "nbconvert_exporter": "python",
   "pygments_lexer": "ipython3",
   "version": "3.10.7"
  }
 },
 "nbformat": 4,
 "nbformat_minor": 5
}
